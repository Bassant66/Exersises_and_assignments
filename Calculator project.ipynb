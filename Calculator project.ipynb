{
 "cells": [
  {
   "cell_type": "code",
   "execution_count": 1,
   "id": "1c6d06ad",
   "metadata": {
    "scrolled": false
   },
   "outputs": [
    {
     "name": "stdout",
     "output_type": "stream",
     "text": [
      "\n",
      " If you want to start an operation enter YES, enter STOP to exit. YES\n",
      "Enter the first number: 3\n",
      "Enter a command to operate (add + ,sub - , mult * ,div /)  +\n",
      "enter the second number: 2\n",
      "3 + 2 = 5\n",
      "\n",
      " If you want to start an operation enter YES, enter STOP to exit. YES\n",
      "Enter the first number: 5\n",
      "Enter a command to operate (add + ,sub - , mult * ,div /)  *\n",
      "enter the second number: 5\n",
      "5 * 5 = 25\n",
      "\n",
      " If you want to start an operation enter YES, enter STOP to exit. YES\n",
      "Enter the first number: 6\n",
      "Enter a command to operate (add + ,sub - , mult * ,div /)  sub\n",
      "enter the second number: 3\n",
      "6 - 3 = 3\n",
      "\n",
      " If you want to start an operation enter YES, enter STOP to exit. YES\n",
      "Enter the first number: 30\n",
      "Enter a command to operate (add + ,sub - , mult * ,div /)  div\n",
      "enter the second number: 5\n",
      "30 / 5 = 6.0\n",
      "\n",
      " If you want to start an operation enter YES, enter STOP to exit. No\n",
      "Invalid input. Please enter YES to continue or STOP to exit\n",
      "\n",
      " If you want to start an operation enter YES, enter STOP to exit. STOP\n",
      "Exiting the program. Goodbye!\n"
     ]
    }
   ],
   "source": [
    "def my_calculator():\n",
    "    import script_calc as math\n",
    "    a = int(input(\"Enter the first number: \"))\n",
    "    operation = input(\"Enter a command to operate (add + ,sub - , mult * ,div /)  \")\n",
    "    b = int(input(\"enter the second number: \"))\n",
    "    \n",
    "    if operation == \"add\" or operation == \"+\":\n",
    "        print(f\"{a} + {b} = {math.add(a, b)}\")\n",
    "    elif operation == \"sub\" or operation == \"-\":\n",
    "        print(f\"{a} - {b} = {math.sub(a, b)}\")\n",
    "    elif operation == \"mult\" or operation == \"*\":\n",
    "        print(f\"{a} * {b} = {math.mult(a, b)}\")\n",
    "    elif operation == \"div\" or operation == \"/\":\n",
    "        print(f\"{a} / {b} = {math.div(a, b)}\")\n",
    "    else:\n",
    "        print(\"Invalid input\")\n",
    "\n",
    "def calculating():\n",
    "    while True:\n",
    "        user_input = input(\"\\n If you want to start an operation enter YES, enter STOP to exit. \")\n",
    "        if user_input == \"YES\":\n",
    "            my_calculator()\n",
    "        elif user_input == \"STOP\":\n",
    "            print(\"Exiting the program. Goodbye!\")\n",
    "            break\n",
    "        else:\n",
    "            print(\"Invalid input. Please enter YES to continue or STOP to exit\")\n",
    "        \n",
    "calculating()"
   ]
  },
  {
   "cell_type": "code",
   "execution_count": null,
   "id": "93db9a68",
   "metadata": {},
   "outputs": [],
   "source": []
  }
 ],
 "metadata": {
  "kernelspec": {
   "display_name": "Python 3 (ipykernel)",
   "language": "python",
   "name": "python3"
  },
  "language_info": {
   "codemirror_mode": {
    "name": "ipython",
    "version": 3
   },
   "file_extension": ".py",
   "mimetype": "text/x-python",
   "name": "python",
   "nbconvert_exporter": "python",
   "pygments_lexer": "ipython3",
   "version": "3.11.5"
  }
 },
 "nbformat": 4,
 "nbformat_minor": 5
}
