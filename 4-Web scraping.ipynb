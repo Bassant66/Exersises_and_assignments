{
 "cells": [
  {
   "cell_type": "markdown",
   "metadata": {
    "slideshow": {
     "slide_type": "-"
    }
   },
   "source": [
    "# Scraping the web with BeautifulSoup\n",
    "\n",
    "We are going to get information out of websites using `requests` and `beautifulsoup`.\n",
    "\n",
    "## Installation\n",
    "\n",
    "With conda, you can install the required dependencies with:\n",
    "\n",
    "```bash\n",
    "conda install beautifulsoup4 requests\n",
    "```\n",
    "\n",
    "or\n",
    "\n",
    "```bash\n",
    "python3 -m pip install beautifulsoup4 requests\n",
    "```\n"
   ]
  },
  {
   "cell_type": "markdown",
   "metadata": {},
   "source": [
    "## Basic usage of BeautifulSoup"
   ]
  },
  {
   "cell_type": "markdown",
   "metadata": {},
   "source": [
    "First, we import the `BeatifulSoup` class:"
   ]
  },
  {
   "cell_type": "code",
   "execution_count": 2,
   "metadata": {},
   "outputs": [],
   "source": [
    "from bs4 import BeautifulSoup"
   ]
  },
  {
   "cell_type": "markdown",
   "metadata": {},
   "source": [
    "We load the html source file from disk and pass the contents to the BeautifulSoup constructor."
   ]
  },
  {
   "cell_type": "code",
   "execution_count": 3,
   "metadata": {},
   "outputs": [
    {
     "name": "stdout",
     "output_type": "stream",
     "text": [
      "<!doctype html>\n",
      "<html>\n",
      "  <head>\n",
      "    <title>Sample HTML document</title>\n",
      "  </head>\n",
      "  <body>\n",
      "    <h2>An Unordered HTML List</h2>\n",
      "\n",
      "    <ul id=\"unordered_list\" style=\"color: #f0e\">\n",
      "      <li>Coffee</li>\n",
      "      <li>Tea</li>\n",
      "      <li>Milk</li>\n",
      "    </ul>\n",
      "\n",
      "    <h2>An Ordered HTML List</h2>\n",
      "\n",
      "    <ol id=\"ordered_list\" style=\"color: rgb(20, 200, 100)\">\n",
      "      <li>First</li>\n",
      "      <li>Second</li>\n",
      "      <li>Third</li>\n",
      "    </ol>\n",
      "  </body>\n",
      "</html>\n"
     ]
    }
   ],
   "source": [
    "with open(\"list.html\") as f:\n",
    "    html = f.read()\n",
    "    document = BeautifulSoup(html, \"html.parser\")\n",
    "print(html)"
   ]
  },
  {
   "cell_type": "code",
   "execution_count": 4,
   "metadata": {},
   "outputs": [
    {
     "data": {
      "text/html": [
       "<!doctype html>\n",
       "<html>\n",
       "  <head>\n",
       "    <title>Sample HTML document</title>\n",
       "  </head>\n",
       "  <body>\n",
       "    <h2>An Unordered HTML List</h2>\n",
       "\n",
       "    <ul id=\"unordered_list\" style=\"color: #f0e\">\n",
       "      <li>Coffee</li>\n",
       "      <li>Tea</li>\n",
       "      <li>Milk</li>\n",
       "    </ul>\n",
       "\n",
       "    <h2>An Ordered HTML List</h2>\n",
       "\n",
       "    <ol id=\"ordered_list\" style=\"color: rgb(20, 200, 100)\">\n",
       "      <li>First</li>\n",
       "      <li>Second</li>\n",
       "      <li>Third</li>\n",
       "    </ol>\n",
       "  </body>\n",
       "</html>"
      ],
      "text/plain": [
       "<IPython.core.display.HTML object>"
      ]
     },
     "execution_count": 4,
     "metadata": {},
     "output_type": "execute_result"
    }
   ],
   "source": [
    "from IPython.display import HTML\n",
    "\n",
    "HTML(html)"
   ]
  },
  {
   "cell_type": "markdown",
   "metadata": {},
   "source": [
    "### Finding tags by name\n",
    "\n",
    "The document now contains the full html document. We can find the first occuring tag with a specific name with the `find` function. Let's find the first un-ordered list tag:"
   ]
  },
  {
   "cell_type": "code",
   "execution_count": 5,
   "metadata": {},
   "outputs": [],
   "source": [
    "ulist = document.find(\"ul\")"
   ]
  },
  {
   "cell_type": "markdown",
   "metadata": {},
   "source": [
    "The result contains all tags contained in the matched tag:"
   ]
  },
  {
   "cell_type": "code",
   "execution_count": 6,
   "metadata": {},
   "outputs": [
    {
     "data": {
      "text/plain": [
       "<ul id=\"unordered_list\" style=\"color: #f0e\">\n",
       "<li>Coffee</li>\n",
       "<li>Tea</li>\n",
       "<li>Milk</li>\n",
       "</ul>"
      ]
     },
     "execution_count": 6,
     "metadata": {},
     "output_type": "execute_result"
    }
   ],
   "source": [
    "ulist"
   ]
  },
  {
   "cell_type": "markdown",
   "metadata": {},
   "source": [
    "The `find_all` function returns **all** tags that match the given tag name. We can use it to get a list of all list items:"
   ]
  },
  {
   "cell_type": "code",
   "execution_count": 7,
   "metadata": {},
   "outputs": [
    {
     "data": {
      "text/plain": [
       "[<li>Coffee</li>, <li>Tea</li>, <li>Milk</li>]"
      ]
     },
     "execution_count": 7,
     "metadata": {},
     "output_type": "execute_result"
    }
   ],
   "source": [
    "items = ulist.find_all(\"li\")\n",
    "items"
   ]
  },
  {
   "cell_type": "markdown",
   "metadata": {},
   "source": [
    "Finally, we can loop over all items and extract their contant with the `get_text` function:"
   ]
  },
  {
   "cell_type": "code",
   "execution_count": 7,
   "metadata": {
    "tags": []
   },
   "outputs": [
    {
     "name": "stdout",
     "output_type": "stream",
     "text": [
      "'Coffee'\n",
      "'Tea'\n",
      "'Milk'\n"
     ]
    }
   ],
   "source": [
    "for item in items:\n",
    "    print(repr(item.get_text()))"
   ]
  },
  {
   "cell_type": "markdown",
   "metadata": {},
   "source": [
    "Because whitespace is not meaningful in HTML,\n",
    "it is often useful to strip it when you are getting the content of a tag.\n",
    "You can do this with `strip=True`"
   ]
  },
  {
   "cell_type": "code",
   "execution_count": 8,
   "metadata": {},
   "outputs": [
    {
     "name": "stdout",
     "output_type": "stream",
     "text": [
      "'Coffee'\n",
      "'Tea'\n",
      "'Milk'\n"
     ]
    }
   ],
   "source": [
    "for item in items:\n",
    "    print(repr(item.get_text(strip=True)))"
   ]
  },
  {
   "cell_type": "markdown",
   "metadata": {},
   "source": [
    "Note that `find_all` is **recursive** by default. This means that we could call it the on the full `document` to get the items\n",
    "of both the ordered and un-ordered lists:"
   ]
  },
  {
   "cell_type": "code",
   "execution_count": 9,
   "metadata": {},
   "outputs": [
    {
     "data": {
      "text/plain": [
       "[<li>Coffee</li>,\n",
       " <li>Tea</li>,\n",
       " <li>Milk</li>,\n",
       " <li>First</li>,\n",
       " <li>Second</li>,\n",
       " <li>Third</li>]"
      ]
     },
     "execution_count": 9,
     "metadata": {},
     "output_type": "execute_result"
    }
   ],
   "source": [
    "document.find_all(\"li\")"
   ]
  },
  {
   "cell_type": "code",
   "execution_count": 10,
   "metadata": {},
   "outputs": [
    {
     "data": {
      "text/plain": [
       "[]"
      ]
     },
     "execution_count": 10,
     "metadata": {},
     "output_type": "execute_result"
    }
   ],
   "source": [
    "document.find_all(\"li\", recursive=False)"
   ]
  },
  {
   "cell_type": "code",
   "execution_count": 11,
   "metadata": {},
   "outputs": [
    {
     "data": {
      "text/plain": [
       "[<li>Coffee</li>, <li>Tea</li>, <li>Milk</li>]"
      ]
     },
     "execution_count": 11,
     "metadata": {},
     "output_type": "execute_result"
    }
   ],
   "source": [
    "ulist.find_all(\"li\", recursive=False)"
   ]
  },
  {
   "cell_type": "markdown",
   "metadata": {},
   "source": [
    "A recursive search finds all `li` tags anywhere."
   ]
  },
  {
   "cell_type": "code",
   "execution_count": 12,
   "metadata": {},
   "outputs": [
    {
     "data": {
      "text/plain": [
       "[<li>Coffee</li>,\n",
       " <li>Tea</li>,\n",
       " <li>Milk</li>,\n",
       " <li>First</li>,\n",
       " <li>Second</li>,\n",
       " <li>Third</li>]"
      ]
     },
     "execution_count": 12,
     "metadata": {},
     "output_type": "execute_result"
    }
   ],
   "source": [
    "document.find_all(\"li\")"
   ]
  },
  {
   "cell_type": "markdown",
   "metadata": {},
   "source": [
    "### Finding tags by attributes"
   ]
  },
  {
   "cell_type": "markdown",
   "metadata": {},
   "source": [
    "Sometimes the easiest way to find a tag is by its attribute name. In our examples, both lists have an `id` attribute that uniquely identifies the tables. We can also use the `find*` methods to search for attributes:\n"
   ]
  },
  {
   "cell_type": "code",
   "execution_count": 13,
   "metadata": {},
   "outputs": [
    {
     "data": {
      "text/plain": [
       "<ul id=\"unordered_list\" style=\"color: #f0e\">\n",
       "<li>Coffee</li>\n",
       "<li>Tea</li>\n",
       "<li>Milk</li>\n",
       "</ul>"
      ]
     },
     "execution_count": 13,
     "metadata": {},
     "output_type": "execute_result"
    }
   ],
   "source": [
    "document.find(attrs={\"id\": \"unordered_list\"})"
   ]
  },
  {
   "cell_type": "markdown",
   "metadata": {},
   "source": [
    "### Accessing attributes\n",
    "\n",
    "The `ul` tag also contains a `style` attribute. Any bs4 tag behaves like a dictionary with attribute names as keys and attribute values as values:"
   ]
  },
  {
   "cell_type": "code",
   "execution_count": 14,
   "metadata": {},
   "outputs": [
    {
     "data": {
      "text/plain": [
       "{'id': 'unordered_list', 'style': 'color: #f0e'}"
      ]
     },
     "execution_count": 14,
     "metadata": {},
     "output_type": "execute_result"
    }
   ],
   "source": [
    "ulist.attrs"
   ]
  },
  {
   "cell_type": "code",
   "execution_count": 15,
   "metadata": {},
   "outputs": [
    {
     "data": {
      "text/plain": [
       "'color: #f0e'"
      ]
     },
     "execution_count": 15,
     "metadata": {},
     "output_type": "execute_result"
    }
   ],
   "source": [
    "ulist[\"style\"]"
   ]
  },
  {
   "cell_type": "markdown",
   "metadata": {},
   "source": [
    "## Downloading a table from Wikipedia\n",
    "\n",
    "We aim to get a list of countries sorted by their population size:\n",
    "https://en.wikipedia.org/wiki/List_of_countries_and_dependencies_by_population\n",
    "\n",
    "First, let's import the required modules:"
   ]
  },
  {
   "cell_type": "code",
   "execution_count": 16,
   "metadata": {},
   "outputs": [],
   "source": [
    "import re\n",
    "\n",
    "import dateutil\n",
    "import requests\n",
    "from bs4 import BeautifulSoup"
   ]
  },
  {
   "cell_type": "markdown",
   "metadata": {},
   "source": [
    "This time, we load the html directly from a website using the requests module:"
   ]
  },
  {
   "cell_type": "code",
   "execution_count": 17,
   "metadata": {},
   "outputs": [
    {
     "data": {
      "text/plain": [
       "'https://en.wikipedia.org/wiki/List_of_countries_and_dependencies_by_population'"
      ]
     },
     "execution_count": 17,
     "metadata": {},
     "output_type": "execute_result"
    }
   ],
   "source": [
    "url = \"https://en.wikipedia.org/wiki/List_of_countries_and_dependencies_by_population\"\n",
    "\n",
    "r = requests.get(url)\n",
    "url"
   ]
  },
  {
   "cell_type": "markdown",
   "metadata": {},
   "source": [
    "The web server returns a status code to indicate if the request was (un-)succesfully.\n",
    "We use that status-code to check if the page was succesfully loaded:"
   ]
  },
  {
   "cell_type": "code",
   "execution_count": 18,
   "metadata": {},
   "outputs": [],
   "source": [
    "assert r.status_code == 200"
   ]
  },
  {
   "cell_type": "markdown",
   "metadata": {},
   "source": [
    "Next, we extract the html source and initiated BeautifulSoup:"
   ]
  },
  {
   "cell_type": "code",
   "execution_count": 19,
   "metadata": {},
   "outputs": [],
   "source": [
    "html = r.text\n",
    "document = BeautifulSoup(html, \"html.parser\")"
   ]
  },
  {
   "cell_type": "markdown",
   "metadata": {},
   "source": [
    "by looking at the document, we can see that we are interested in first table. So we use `find`:"
   ]
  },
  {
   "cell_type": "code",
   "execution_count": 20,
   "metadata": {},
   "outputs": [],
   "source": [
    "table = document.find(\"table\", class_=\"wikitable\")"
   ]
  },
  {
   "cell_type": "markdown",
   "metadata": {},
   "source": [
    "If you are not familiar with html table, read this example first: https://www.w3schools.com/html/tryit.asp?filename=tryhtml_table_intro"
   ]
  },
  {
   "cell_type": "code",
   "execution_count": 21,
   "metadata": {},
   "outputs": [
    {
     "name": "stdout",
     "output_type": "stream",
     "text": [
      "<table class=\"wikitable sortable sticky-header sort-under mw-datatable col2left col6left\" style=\"text-align:right\">\n",
      "<caption>List of countries and territories by total population\n",
      "</caption>\n",
      "<tbody><tr>\n",
      "<th>\n",
      "</th>\n",
      "<th>Location\n",
      "</th>\n",
      "<th>Population\n",
      "</th>\n",
      "<th style=\"width:2em\">% of<br/>world\n",
      "</th>\n",
      "<th>Date\n",
      "</th>\n",
      "<th><span class=\"nowrap\">Source (official or from</span><br/>the <a href=\"/wiki/United_Nations\" title=\"United Nations\">United Nations</a>)\n",
      "</th>\n",
      "<th class=\"unsortable\">Notes\n",
      "</th></tr>\n",
      "<tr>\n",
      "<td>-\n",
      "</td>\n",
      "<td><b><span class=\"flagicon\" style=\"padding-left:25px;\"> </span>World</b>\n",
      "</td>\n",
      "<td>8,119,000,000</td>\n",
      "<td><div class=\"center\" style=\"width:auto; margin-left:auto; margin-right:auto;\">100%</div></td>\n",
      "<td><span data-sort-value=\"000000002024-07-01-0000\" style=\"white-space:nowrap\">1 Jul 2024</span>\n",
      "</td>\n",
      "<td>UN projection<sup class=\"reference\" id=\"cite_ref-UNFPA_1-1\"><a href=\"#cite_note-UNFPA-1\"><span class=\"cite-bracket\">[</span>1<span class=\"cite-bracket\">]</span></a></sup><sup class=\"reference\" id=\"cite_r\n"
     ]
    }
   ],
   "source": [
    "print(str(table)[:1024])"
   ]
  },
  {
   "cell_type": "markdown",
   "metadata": {},
   "source": [
    "At this point, it is a good idea to programatically check that the table contains the correct header:"
   ]
  },
  {
   "cell_type": "code",
   "execution_count": 22,
   "metadata": {},
   "outputs": [
    {
     "data": {
      "text/plain": [
       "' Location Population % ofworld Date Source (official or fromtheUnited Nations) Notes'"
      ]
     },
     "execution_count": 22,
     "metadata": {},
     "output_type": "execute_result"
    }
   ],
   "source": [
    "header = \" \".join([th.get_text(strip=True) for th in table.find_all(\"th\")])\n",
    "assert \"Population\" in header\n",
    "header"
   ]
  },
  {
   "cell_type": "markdown",
   "metadata": {},
   "source": [
    "### Exercise\n",
    "\n",
    "extract the information from the table\n",
    "\n",
    "- get the rows\n",
    "- find column names\n",
    "- get sensible data from each cell\n",
    "- parse numbers/dates where they show up\n",
    "  "
   ]
  },
  {
   "cell_type": "code",
   "execution_count": 23,
   "metadata": {},
   "outputs": [],
   "source": [
    "rows = table.find_all(\"tr\")"
   ]
  },
  {
   "cell_type": "code",
   "execution_count": 24,
   "metadata": {},
   "outputs": [
    {
     "data": {
      "text/plain": [
       "<tr>\n",
       "<th>\n",
       "</th>\n",
       "<th>Location\n",
       "</th>\n",
       "<th>Population\n",
       "</th>\n",
       "<th style=\"width:2em\">% of<br/>world\n",
       "</th>\n",
       "<th>Date\n",
       "</th>\n",
       "<th><span class=\"nowrap\">Source (official or from</span><br/>the <a href=\"/wiki/United_Nations\" title=\"United Nations\">United Nations</a>)\n",
       "</th>\n",
       "<th class=\"unsortable\">Notes\n",
       "</th></tr>"
      ]
     },
     "execution_count": 24,
     "metadata": {},
     "output_type": "execute_result"
    }
   ],
   "source": [
    "rows[0]"
   ]
  },
  {
   "cell_type": "code",
   "execution_count": 25,
   "metadata": {},
   "outputs": [
    {
     "data": {
      "text/plain": [
       "['',\n",
       " 'Location',\n",
       " 'Population',\n",
       " '% ofworld',\n",
       " 'Date',\n",
       " 'Source (official or fromtheUnited Nations)',\n",
       " 'Notes']"
      ]
     },
     "execution_count": 25,
     "metadata": {},
     "output_type": "execute_result"
    }
   ],
   "source": [
    "column_names = [th.get_text(strip=True) for th in rows[0].find_all(\"th\")]\n",
    "column_names"
   ]
  },
  {
   "cell_type": "code",
   "execution_count": 37,
   "metadata": {},
   "outputs": [
    {
     "name": "stdout",
     "output_type": "stream",
     "text": [
      "0 World 8.12e+09 100.0% 2024-07-01\n",
      "0 China 1.41e+09 17.3% 2023-12-31\n"
     ]
    },
    {
     "ename": "ValueError",
     "evalue": "invalid literal for int() with base 10: '17.2%'",
     "output_type": "error",
     "traceback": [
      "\u001b[1;31m---------------------------------------------------------------------------\u001b[0m",
      "\u001b[1;31mValueError\u001b[0m                                Traceback (most recent call last)",
      "Cell \u001b[1;32mIn[37], line 13\u001b[0m\n\u001b[0;32m     11\u001b[0m     last_rank \u001b[38;5;241m=\u001b[39m rank\n\u001b[0;32m     12\u001b[0m     rank \u001b[38;5;241m=\u001b[39m \u001b[38;5;28mint\u001b[39m(rank)\n\u001b[1;32m---> 13\u001b[0m population \u001b[38;5;241m=\u001b[39m \u001b[38;5;28mint\u001b[39m(population\u001b[38;5;241m.\u001b[39mreplace(\u001b[38;5;124m\"\u001b[39m\u001b[38;5;124m,\u001b[39m\u001b[38;5;124m\"\u001b[39m, \u001b[38;5;124m\"\u001b[39m\u001b[38;5;124m\"\u001b[39m))\n\u001b[0;32m     14\u001b[0m percentage \u001b[38;5;241m=\u001b[39m \u001b[38;5;28mfloat\u001b[39m(re\u001b[38;5;241m.\u001b[39mfindall(\u001b[38;5;124mr\u001b[39m\u001b[38;5;124m\"\u001b[39m\u001b[38;5;124m[\u001b[39m\u001b[38;5;124m\\\u001b[39m\u001b[38;5;124md\u001b[39m\u001b[38;5;124m\\\u001b[39m\u001b[38;5;124m.]+\u001b[39m\u001b[38;5;124m\"\u001b[39m, percentage)[\u001b[38;5;241m0\u001b[39m]) \u001b[38;5;241m/\u001b[39m \u001b[38;5;241m100\u001b[39m\n\u001b[0;32m     15\u001b[0m updated_at \u001b[38;5;241m=\u001b[39m dateutil\u001b[38;5;241m.\u001b[39mparser\u001b[38;5;241m.\u001b[39mparse(updated_at)\u001b[38;5;241m.\u001b[39mdate()\n",
      "\u001b[1;31mValueError\u001b[0m: invalid literal for int() with base 10: '17.2%'"
     ]
    }
   ],
   "source": [
    "last_rank = 0\n",
    "for row in rows[1:]:\n",
    "    cells = row.find_all([\"th\", \"td\"])\n",
    "    if not cells:\n",
    "        continue\n",
    "    cells_text = [cell.get_text(strip=True) for cell in cells]\n",
    "    rank, country, population, percentage, updated_at, source, *comment = cells_text\n",
    "    if not rank.isdigit():\n",
    "        rank = last_rank\n",
    "    else:\n",
    "        last_rank = rank\n",
    "        rank = int(rank)\n",
    "    population = int(population.replace(\",\", \"\"))\n",
    "    percentage = float(re.findall(r\"[\\d\\.]+\", percentage)[0]) / 100\n",
    "    updated_at = dateutil.parser.parse(updated_at).date()\n",
    "\n",
    "    print(rank, country, f\"{population:,.2e}\", f\"{percentage:.1%}\", updated_at)"
   ]
  },
  {
   "cell_type": "markdown",
   "metadata": {},
   "source": [
    "**Attention**: Beautiful Soup does not execute Javascript. This means that you the code in your browser inspector might look a bit different from the original HTML source code. "
   ]
  },
  {
   "cell_type": "markdown",
   "metadata": {
    "tags": []
   },
   "source": [
    "# Another example of downloading a Wikipedia table \n",
    "\n",
    "Let's consider another table in a Wikipedia page. This page has a lot more tables, so one challenge will be to pick the right table\n",
    "\n",
    "https://en.wikipedia.org/wiki/Serena_Williams\n",
    "\n",
    "\n",
    "We are interested in extracting these two tables:\n",
    "\n",
    "![Target Wikipedia tables](figs/wiki_tables.png)\n",
    "\n",
    "**Exercise**: \n",
    "\n",
    "Find the tables on a page by locating heading and using `.find_next()`\n"
   ]
  },
  {
   "cell_type": "markdown",
   "metadata": {},
   "source": [
    "We begin by downloading the webpage and instatiating the BeautifulSoup object:"
   ]
  },
  {
   "cell_type": "code",
   "execution_count": 38,
   "metadata": {},
   "outputs": [],
   "source": [
    "r = requests.get(\"https://en.wikipedia.org/wiki/Serena_Williams\")\n",
    "document = BeautifulSoup(r.text, \"html.parser\")"
   ]
  },
  {
   "cell_type": "markdown",
   "metadata": {},
   "source": [
    "This page contains a lot of tables without specific attributes that would make it easy to find our table of interest. Further, the same headings of the tables are used for multiple tables, making it difficult to find a table just by its headings:"
   ]
  },
  {
   "cell_type": "code",
   "execution_count": 39,
   "metadata": {},
   "outputs": [
    {
     "data": {
      "text/plain": [
       "74"
      ]
     },
     "execution_count": 39,
     "metadata": {},
     "output_type": "execute_result"
    }
   ],
   "source": [
    "len(document.find_all(\"table\"))"
   ]
  },
  {
   "cell_type": "markdown",
   "metadata": {},
   "source": [
    "Therefore, we choose another strategy.\n",
    "\n",
    "First, we find the tag with class `mw-headling` whose `string` content _starts with_ `Singles`.\n",
    "Then we find the _next_ table using `heading_element.find_next(...)`:"
   ]
  },
  {
   "cell_type": "code",
   "execution_count": 29,
   "metadata": {},
   "outputs": [
    {
     "data": {
      "text/plain": [
       "[]"
      ]
     },
     "execution_count": 29,
     "metadata": {},
     "output_type": "execute_result"
    }
   ],
   "source": [
    "document.find_all(class_=\"mw-headline\", string=re.compile(\"^Singles\"))"
   ]
  },
  {
   "cell_type": "code",
   "execution_count": 40,
   "metadata": {},
   "outputs": [],
   "source": [
    "# string class\n",
    "singles_heading = document.find(class_=\"mw-headline\", string=re.compile(\"^Singles\"))\n",
    "singles_heading"
   ]
  },
  {
   "cell_type": "code",
   "execution_count": 42,
   "metadata": {
    "scrolled": true,
    "tags": []
   },
   "outputs": [
    {
     "ename": "AttributeError",
     "evalue": "'NoneType' object has no attribute 'find_next'",
     "output_type": "error",
     "traceback": [
      "\u001b[1;31m---------------------------------------------------------------------------\u001b[0m",
      "\u001b[1;31mAttributeError\u001b[0m                            Traceback (most recent call last)",
      "Cell \u001b[1;32mIn[42], line 1\u001b[0m\n\u001b[1;32m----> 1\u001b[0m singles_heading\u001b[38;5;241m.\u001b[39mfind_next()\n",
      "\u001b[1;31mAttributeError\u001b[0m: 'NoneType' object has no attribute 'find_next'"
     ]
    }
   ],
   "source": [
    "singles_heading.find_next()"
   ]
  },
  {
   "cell_type": "markdown",
   "metadata": {},
   "source": [
    "Now, our tables of interest are the first two result tables for \"Singles\" and \"Women's doubles\". We write a small helper function that returns a table with a given heading:"
   ]
  },
  {
   "cell_type": "code",
   "execution_count": 43,
   "metadata": {},
   "outputs": [],
   "source": [
    "def find_table_with_heading(document, heading_pat):\n",
    "    heading_element = document.find(class_=\"mw-headline\", string=heading_pat)\n",
    "    table = heading_element.find_next(\"table\")\n",
    "    return table"
   ]
  },
  {
   "cell_type": "code",
   "execution_count": 44,
   "metadata": {},
   "outputs": [
    {
     "ename": "AttributeError",
     "evalue": "'NoneType' object has no attribute 'find_next'",
     "output_type": "error",
     "traceback": [
      "\u001b[1;31m---------------------------------------------------------------------------\u001b[0m",
      "\u001b[1;31mAttributeError\u001b[0m                            Traceback (most recent call last)",
      "Cell \u001b[1;32mIn[44], line 1\u001b[0m\n\u001b[1;32m----> 1\u001b[0m singles_table \u001b[38;5;241m=\u001b[39m find_table_with_heading(document, re\u001b[38;5;241m.\u001b[39mcompile(\u001b[38;5;124m\"\u001b[39m\u001b[38;5;124m^Singles\u001b[39m\u001b[38;5;124m\"\u001b[39m))\n\u001b[0;32m      2\u001b[0m \u001b[38;5;66;03m# print headers\u001b[39;00m\n\u001b[0;32m      3\u001b[0m headings \u001b[38;5;241m=\u001b[39m singles_table\u001b[38;5;241m.\u001b[39mfind_all(\u001b[38;5;124m\"\u001b[39m\u001b[38;5;124mth\u001b[39m\u001b[38;5;124m\"\u001b[39m)\n",
      "Cell \u001b[1;32mIn[43], line 3\u001b[0m, in \u001b[0;36mfind_table_with_heading\u001b[1;34m(document, heading_pat)\u001b[0m\n\u001b[0;32m      1\u001b[0m \u001b[38;5;28;01mdef\u001b[39;00m \u001b[38;5;21mfind_table_with_heading\u001b[39m(document, heading_pat):\n\u001b[0;32m      2\u001b[0m     heading_element \u001b[38;5;241m=\u001b[39m document\u001b[38;5;241m.\u001b[39mfind(class_\u001b[38;5;241m=\u001b[39m\u001b[38;5;124m\"\u001b[39m\u001b[38;5;124mmw-headline\u001b[39m\u001b[38;5;124m\"\u001b[39m, string\u001b[38;5;241m=\u001b[39mheading_pat)\n\u001b[1;32m----> 3\u001b[0m     table \u001b[38;5;241m=\u001b[39m heading_element\u001b[38;5;241m.\u001b[39mfind_next(\u001b[38;5;124m\"\u001b[39m\u001b[38;5;124mtable\u001b[39m\u001b[38;5;124m\"\u001b[39m)\n\u001b[0;32m      4\u001b[0m     \u001b[38;5;28;01mreturn\u001b[39;00m table\n",
      "\u001b[1;31mAttributeError\u001b[0m: 'NoneType' object has no attribute 'find_next'"
     ]
    }
   ],
   "source": [
    "singles_table = find_table_with_heading(document, re.compile(\"^Singles\"))\n",
    "# print headers\n",
    "headings = singles_table.find_all(\"th\")\n",
    "[th.get_text(strip=True) for th in headings]"
   ]
  },
  {
   "cell_type": "markdown",
   "metadata": {},
   "source": [
    "Next, we can find the table after the heading \"Women's doubles\""
   ]
  },
  {
   "cell_type": "code",
   "execution_count": 45,
   "metadata": {},
   "outputs": [
    {
     "ename": "AttributeError",
     "evalue": "'NoneType' object has no attribute 'find_next'",
     "output_type": "error",
     "traceback": [
      "\u001b[1;31m---------------------------------------------------------------------------\u001b[0m",
      "\u001b[1;31mAttributeError\u001b[0m                            Traceback (most recent call last)",
      "Cell \u001b[1;32mIn[45], line 1\u001b[0m\n\u001b[1;32m----> 1\u001b[0m doubles_table \u001b[38;5;241m=\u001b[39m find_table_with_heading(document, re\u001b[38;5;241m.\u001b[39mcompile(\u001b[38;5;124mr\u001b[39m\u001b[38;5;124m\"\u001b[39m\u001b[38;5;124m^Women\u001b[39m\u001b[38;5;124m'\u001b[39m\u001b[38;5;124ms doubles\u001b[39m\u001b[38;5;124m\"\u001b[39m))\n\u001b[0;32m      2\u001b[0m \u001b[38;5;66;03m# print headers\u001b[39;00m\n\u001b[0;32m      3\u001b[0m headings \u001b[38;5;241m=\u001b[39m doubles_table\u001b[38;5;241m.\u001b[39mfind_all(\u001b[38;5;124m\"\u001b[39m\u001b[38;5;124mth\u001b[39m\u001b[38;5;124m\"\u001b[39m)\n",
      "Cell \u001b[1;32mIn[43], line 3\u001b[0m, in \u001b[0;36mfind_table_with_heading\u001b[1;34m(document, heading_pat)\u001b[0m\n\u001b[0;32m      1\u001b[0m \u001b[38;5;28;01mdef\u001b[39;00m \u001b[38;5;21mfind_table_with_heading\u001b[39m(document, heading_pat):\n\u001b[0;32m      2\u001b[0m     heading_element \u001b[38;5;241m=\u001b[39m document\u001b[38;5;241m.\u001b[39mfind(class_\u001b[38;5;241m=\u001b[39m\u001b[38;5;124m\"\u001b[39m\u001b[38;5;124mmw-headline\u001b[39m\u001b[38;5;124m\"\u001b[39m, string\u001b[38;5;241m=\u001b[39mheading_pat)\n\u001b[1;32m----> 3\u001b[0m     table \u001b[38;5;241m=\u001b[39m heading_element\u001b[38;5;241m.\u001b[39mfind_next(\u001b[38;5;124m\"\u001b[39m\u001b[38;5;124mtable\u001b[39m\u001b[38;5;124m\"\u001b[39m)\n\u001b[0;32m      4\u001b[0m     \u001b[38;5;28;01mreturn\u001b[39;00m table\n",
      "\u001b[1;31mAttributeError\u001b[0m: 'NoneType' object has no attribute 'find_next'"
     ]
    }
   ],
   "source": [
    "doubles_table = find_table_with_heading(document, re.compile(r\"^Women's doubles\"))\n",
    "# print headers\n",
    "headings = doubles_table.find_all(\"th\")\n",
    "[th.get_text(strip=True) for th in headings]"
   ]
  },
  {
   "cell_type": "markdown",
   "metadata": {},
   "source": [
    "## Exercise:\n",
    "\n",
    "- Iterate through the rows\n",
    "- convert year to integer (or date)\n",
    "- strip note '(12)' from event, so the same event has the same string\n",
    "- load into pandas DataFrame (more on pandas in a later lecture)"
   ]
  },
  {
   "cell_type": "code",
   "execution_count": 46,
   "metadata": {},
   "outputs": [
    {
     "data": {
      "text/plain": [
       "\u001b[1;31mSignature:\u001b[0m \u001b[0mre\u001b[0m\u001b[1;33m.\u001b[0m\u001b[0msub\u001b[0m\u001b[1;33m(\u001b[0m\u001b[0mpattern\u001b[0m\u001b[1;33m,\u001b[0m \u001b[0mrepl\u001b[0m\u001b[1;33m,\u001b[0m \u001b[0mstring\u001b[0m\u001b[1;33m,\u001b[0m \u001b[0mcount\u001b[0m\u001b[1;33m=\u001b[0m\u001b[1;36m0\u001b[0m\u001b[1;33m,\u001b[0m \u001b[0mflags\u001b[0m\u001b[1;33m=\u001b[0m\u001b[1;36m0\u001b[0m\u001b[1;33m)\u001b[0m\u001b[1;33m\u001b[0m\u001b[1;33m\u001b[0m\u001b[0m\n",
       "\u001b[1;31mDocstring:\u001b[0m\n",
       "Return the string obtained by replacing the leftmost\n",
       "non-overlapping occurrences of the pattern in string by the\n",
       "replacement repl.  repl can be either a string or a callable;\n",
       "if a string, backslash escapes in it are processed.  If it is\n",
       "a callable, it's passed the Match object and must return\n",
       "a replacement string to be used.\n",
       "\u001b[1;31mFile:\u001b[0m      c:\\users\\hp\\anaconda3\\lib\\re\\__init__.py\n",
       "\u001b[1;31mType:\u001b[0m      function"
      ]
     },
     "metadata": {},
     "output_type": "display_data"
    }
   ],
   "source": [
    "re.sub?"
   ]
  },
  {
   "cell_type": "code",
   "execution_count": 47,
   "metadata": {},
   "outputs": [
    {
     "ename": "NameError",
     "evalue": "name 'singles_table' is not defined",
     "output_type": "error",
     "traceback": [
      "\u001b[1;31m---------------------------------------------------------------------------\u001b[0m",
      "\u001b[1;31mNameError\u001b[0m                                 Traceback (most recent call last)",
      "Cell \u001b[1;32mIn[47], line 2\u001b[0m\n\u001b[0;32m      1\u001b[0m data \u001b[38;5;241m=\u001b[39m []\n\u001b[1;32m----> 2\u001b[0m \u001b[38;5;28;01mfor\u001b[39;00m row \u001b[38;5;129;01min\u001b[39;00m singles_table\u001b[38;5;241m.\u001b[39mfind_all(\u001b[38;5;124m\"\u001b[39m\u001b[38;5;124mtr\u001b[39m\u001b[38;5;124m\"\u001b[39m):\n\u001b[0;32m      3\u001b[0m     cells \u001b[38;5;241m=\u001b[39m row\u001b[38;5;241m.\u001b[39mfind_all(\u001b[38;5;124m\"\u001b[39m\u001b[38;5;124mtd\u001b[39m\u001b[38;5;124m\"\u001b[39m)\n\u001b[0;32m      4\u001b[0m     \u001b[38;5;28;01mif\u001b[39;00m \u001b[38;5;129;01mnot\u001b[39;00m cells:\n",
      "\u001b[1;31mNameError\u001b[0m: name 'singles_table' is not defined"
     ]
    }
   ],
   "source": [
    "data = []\n",
    "for row in singles_table.find_all(\"tr\"):\n",
    "    cells = row.find_all(\"td\")\n",
    "    if not cells:\n",
    "        continue\n",
    "    values = [cell.get_text(strip=True) for cell in cells]\n",
    "    values[1] = int(values[1])\n",
    "    values[2] = re.sub(r\"\\s*\\(.+\\)\", \"\", values[2])\n",
    "    print(values)\n",
    "    data.append(values)"
   ]
  },
  {
   "cell_type": "markdown",
   "metadata": {},
   "source": [
    "When data is in this form, we can convert it into a DataFrame with pandas.\n",
    "\n",
    "You'll learn more about pandas next week."
   ]
  },
  {
   "cell_type": "code",
   "execution_count": null,
   "metadata": {},
   "outputs": [],
   "source": [
    "import pandas as pd\n",
    "\n",
    "headings = [th.get_text(strip=True) for th in singles_table.find_all(\"th\")]\n",
    "df = pd.DataFrame(data, columns=headings)\n",
    "df"
   ]
  },
  {
   "cell_type": "markdown",
   "metadata": {},
   "source": [
    "With pandas, we can filter this data, group it, and plot interesting relationships.\n",
    "\n",
    "Pandas `groupby` is an interesting operation for performing aggregations,\n",
    "e.g. counting the wins/losses by year and result:"
   ]
  },
  {
   "cell_type": "code",
   "execution_count": null,
   "metadata": {},
   "outputs": [],
   "source": [
    "df.Result.value_counts()"
   ]
  },
  {
   "cell_type": "code",
   "execution_count": null,
   "metadata": {},
   "outputs": [],
   "source": [
    "results_by_year = df.groupby([\"Year\", \"Result\"]).Tournament.count().unstack().fillna(0)\n",
    "results_by_year"
   ]
  },
  {
   "cell_type": "markdown",
   "metadata": {},
   "source": [
    "Which we can now plot"
   ]
  },
  {
   "cell_type": "code",
   "execution_count": null,
   "metadata": {},
   "outputs": [],
   "source": [
    "results_by_year.plot(kind=\"bar\", grid=False)"
   ]
  },
  {
   "cell_type": "markdown",
   "metadata": {},
   "source": [
    "Is there any significance to the court?"
   ]
  },
  {
   "cell_type": "code",
   "execution_count": null,
   "metadata": {},
   "outputs": [],
   "source": [
    "results_by_surface = df.groupby([\"Surface\", \"Result\"]).Tournament.count().unstack()\n",
    "results_by_surface"
   ]
  },
  {
   "cell_type": "code",
   "execution_count": null,
   "metadata": {},
   "outputs": [],
   "source": [
    "results_by_surface.plot(kind=\"bar\")"
   ]
  },
  {
   "cell_type": "markdown",
   "metadata": {},
   "source": [
    "We can even filter to e.g. select opponents who Williams faced at least twice"
   ]
  },
  {
   "cell_type": "code",
   "execution_count": null,
   "metadata": {},
   "outputs": [],
   "source": [
    "results_by_op = df.groupby([\"Opponents\", \"Result\"]).Tournament.count().unstack()\n",
    "results_by_op"
   ]
  },
  {
   "cell_type": "code",
   "execution_count": null,
   "metadata": {},
   "outputs": [],
   "source": [
    "# we can exclude opponents only met once:\n",
    "results_by_op = results_by_op.fillna(0)\n",
    "results_by_op"
   ]
  },
  {
   "cell_type": "code",
   "execution_count": null,
   "metadata": {},
   "outputs": [],
   "source": [
    "(results_by_op.Win + results_by_op.Loss) > 1"
   ]
  },
  {
   "cell_type": "code",
   "execution_count": null,
   "metadata": {},
   "outputs": [],
   "source": [
    "multiple_meetings = results_by_op[(results_by_op.Win + results_by_op.Loss) > 1]\n",
    "multiple_meetings.plot(kind=\"bar\")"
   ]
  },
  {
   "cell_type": "markdown",
   "metadata": {},
   "source": [
    "# Exercise:\n",
    "\n",
    "Find images on the UiO page\n",
    "\n",
    "1) Go to https://en.wikipedia.org/wiki/University_of_Oslo \n",
    "2) Download the content from the site using BeautifulSoup and requests\n",
    "3) Search for all images (using `images = document.find_all('img')`) and print out the content\n",
    "4) Include only images with the attribute `class_=\"mw-file-element\"` in your list of images.\n",
    "5) Print out a list of the value of the \"src\" attribute for the images in 4. \n",
    "6) See if you can display an image by pasting a result from 5 into your web-browser."
   ]
  },
  {
   "cell_type": "code",
   "execution_count": null,
   "metadata": {},
   "outputs": [],
   "source": [
    "r = requests.get(\"https://no.wikipedia.org/wiki/Universitetet_i_Oslo\")\n",
    "html = r.text\n",
    "print(html[:400])"
   ]
  },
  {
   "cell_type": "code",
   "execution_count": null,
   "metadata": {},
   "outputs": [],
   "source": [
    "document = BeautifulSoup(html, \"html.parser\")"
   ]
  },
  {
   "cell_type": "code",
   "execution_count": null,
   "metadata": {},
   "outputs": [],
   "source": [
    "images = document.find_all(\"img\", class_=\"mw-file-element\")\n",
    "len(images)"
   ]
  },
  {
   "cell_type": "code",
   "execution_count": null,
   "metadata": {},
   "outputs": [],
   "source": [
    "for image in images:\n",
    "    print(image[\"src\"])"
   ]
  },
  {
   "cell_type": "code",
   "execution_count": null,
   "metadata": {},
   "outputs": [],
   "source": [
    "from IPython.display import HTML, display"
   ]
  },
  {
   "cell_type": "code",
   "execution_count": null,
   "metadata": {},
   "outputs": [],
   "source": [
    "for image in images:\n",
    "    url = image[\"src\"]\n",
    "    if \"://\" in url:\n",
    "        pass\n",
    "    elif url.startswith(\"//\"):\n",
    "        # add 'scheme' or 'protocol'\n",
    "        url = \"https:\" + url\n",
    "    elif url.startswith(\"/\"):\n",
    "        url = \"https://no.wikipedia.org\" + url\n",
    "    else:\n",
    "        # not an understood URL\n",
    "        raise ValueError(f\"I don't understand this url: {url}\")\n",
    "    html = HTML(f'<img src=\"{url}\">')\n",
    "    display(html)"
   ]
  }
 ],
 "metadata": {
  "celltoolbar": "Slideshow",
  "kernelspec": {
   "display_name": "Python 3 (ipykernel)",
   "language": "python",
   "name": "python3"
  },
  "language_info": {
   "codemirror_mode": {
    "name": "ipython",
    "version": 3
   },
   "file_extension": ".py",
   "mimetype": "text/x-python",
   "name": "python",
   "nbconvert_exporter": "python",
   "pygments_lexer": "ipython3",
   "version": "3.11.5"
  },
  "widgets": {
   "application/vnd.jupyter.widget-state+json": {
    "state": {},
    "version_major": 2,
    "version_minor": 0
   }
  }
 },
 "nbformat": 4,
 "nbformat_minor": 4
}
