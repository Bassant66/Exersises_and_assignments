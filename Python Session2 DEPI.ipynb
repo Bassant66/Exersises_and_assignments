{
 "cells": [
  {
   "cell_type": "markdown",
   "id": "e1aa6fd3",
   "metadata": {},
   "source": [
    "# Python Sessions with DEPI - session 2"
   ]
  },
  {
   "cell_type": "markdown",
   "id": "f7df43d7",
   "metadata": {},
   "source": [
    "### Slicing a List"
   ]
  },
  {
   "cell_type": "code",
   "execution_count": 1,
   "id": "3f59e1ea",
   "metadata": {
    "tags": []
   },
   "outputs": [
    {
     "name": "stdout",
     "output_type": "stream",
     "text": [
      "['mahmoud', 'ali', 'ahmed']\n",
      "['mahmoud', 'ali', 'ahmed', 'mohamed']\n"
     ]
    }
   ],
   "source": [
    "# Working with Part of a List \n",
    "# remember: last index is not included\n",
    "names = ['mahmoud', 'ali', 'ahmed', 'mohamed']\n",
    "print(names[0:3])\n",
    "print(names[0:4])\n"
   ]
  },
  {
   "cell_type": "code",
   "execution_count": 3,
   "id": "2ed4e4f9",
   "metadata": {
    "scrolled": true
   },
   "outputs": [
    {
     "name": "stdout",
     "output_type": "stream",
     "text": [
      "<class 'list'>\n"
     ]
    }
   ],
   "source": [
    "names=['mahmoud', 'ali', 'ahmed', 'mohamed']\n",
    "print(type(names))"
   ]
  },
  {
   "cell_type": "code",
   "execution_count": 2,
   "id": "34a784ec-f3eb-4ac8-af3d-195a30a868c8",
   "metadata": {
    "scrolled": true
   },
   "outputs": [
    {
     "name": "stdout",
     "output_type": "stream",
     "text": [
      "<class 'list'>\n"
     ]
    }
   ],
   "source": [
    "names=list(('mahmoud', 'ali', 'ahmed', 'mohamed'))\n",
    "print(type(names))"
   ]
  },
  {
   "cell_type": "code",
   "execution_count": 3,
   "id": "2428da56",
   "metadata": {
    "tags": []
   },
   "outputs": [
    {
     "data": {
      "text/plain": [
       "'mohamed'"
      ]
     },
     "execution_count": 3,
     "metadata": {},
     "output_type": "execute_result"
    }
   ],
   "source": [
    "names[-1]"
   ]
  },
  {
   "cell_type": "code",
   "execution_count": 4,
   "id": "fa656737",
   "metadata": {
    "tags": []
   },
   "outputs": [
    {
     "name": "stdout",
     "output_type": "stream",
     "text": [
      "['mahmoud', 'ali', 'ahmed', 'mohamed']\n",
      "['ahmed', 'mohamed']\n",
      "['ali', 'ahmed', 'mohamed']\n",
      "['ali']\n"
     ]
    }
   ],
   "source": [
    "names = ['mahmoud', 'ali', 'ahmed', 'mohamed']\n",
    "\n",
    "print(names[:4])\n",
    "print(names[2:])\n",
    "print(names[-3:])\n",
    "print(names[-3:-2])"
   ]
  },
  {
   "cell_type": "code",
   "execution_count": 5,
   "id": "7c285ac1",
   "metadata": {
    "tags": []
   },
   "outputs": [
    {
     "name": "stdout",
     "output_type": "stream",
     "text": [
      "mahmoud\n",
      "ali\n",
      "ahmed\n",
      "mohamed\n"
     ]
    }
   ],
   "source": [
    "#Looping Through a Slice\n",
    "names = ['mahmoud', 'ali', 'ahmed', 'mohamed']\n",
    "\n",
    "for name in names:\n",
    "    print(name)\n"
   ]
  },
  {
   "cell_type": "code",
   "execution_count": 4,
   "id": "dc591dab",
   "metadata": {
    "tags": []
   },
   "outputs": [
    {
     "name": "stdout",
     "output_type": "stream",
     "text": [
      "['pizza', 'falafel', 'cake']\n",
      "['pizza', 'falafel', 'cake']\n"
     ]
    }
   ],
   "source": [
    "# Copying a List\n",
    "\n",
    "my_foods = ['pizza', 'falafel', 'cake']\n",
    "\n",
    "friend_foods = my_foods\n",
    "print(my_foods)\n",
    "print(friend_foods)"
   ]
  },
  {
   "cell_type": "markdown",
   "id": "bb27ad0e",
   "metadata": {},
   "source": [
    "#### Tuples\n",
    "Python refers to values that cannot change as immutable, and an immutable list is called a tuple."
   ]
  },
  {
   "cell_type": "code",
   "execution_count": 7,
   "id": "42cb7383",
   "metadata": {
    "tags": []
   },
   "outputs": [
    {
     "name": "stdout",
     "output_type": "stream",
     "text": [
      "[250, 20]\n"
     ]
    }
   ],
   "source": [
    "my_list = [10, 20]\n",
    "my_list[0] = 250\n",
    "print(my_list)"
   ]
  },
  {
   "cell_type": "code",
   "execution_count": 8,
   "id": "fb398f9c",
   "metadata": {
    "tags": []
   },
   "outputs": [
    {
     "name": "stdout",
     "output_type": "stream",
     "text": [
      "200\n"
     ]
    }
   ],
   "source": [
    "dimensions = (200, 50) \n",
    "print(dimensions[0])"
   ]
  },
  {
   "cell_type": "code",
   "execution_count": 15,
   "id": "d0d3cfe7",
   "metadata": {},
   "outputs": [
    {
     "name": "stdout",
     "output_type": "stream",
     "text": [
      "<class 'tuple'>\n",
      "2\n"
     ]
    }
   ],
   "source": [
    "print(type(dimensions))\n",
    "print(len(dimensions))"
   ]
  },
  {
   "cell_type": "markdown",
   "id": "65a324eb",
   "metadata": {},
   "source": [
    "## You can not modify the values in tuples "
   ]
  },
  {
   "cell_type": "code",
   "execution_count": 5,
   "id": "880ce086",
   "metadata": {
    "scrolled": false
   },
   "outputs": [
    {
     "ename": "TypeError",
     "evalue": "'tuple' object does not support item assignment",
     "output_type": "error",
     "traceback": [
      "\u001b[1;31m---------------------------------------------------------------------------\u001b[0m",
      "\u001b[1;31mTypeError\u001b[0m                                 Traceback (most recent call last)",
      "Cell \u001b[1;32mIn[5], line 2\u001b[0m\n\u001b[0;32m      1\u001b[0m G \u001b[38;5;241m=\u001b[39m (\u001b[38;5;241m2\u001b[39m,\u001b[38;5;241m3\u001b[39m,\u001b[38;5;241m4\u001b[39m)\n\u001b[1;32m----> 2\u001b[0m G[\u001b[38;5;241m0\u001b[39m]\u001b[38;5;241m=\u001b[39m\u001b[38;5;241m10\u001b[39m\n\u001b[0;32m      3\u001b[0m \u001b[38;5;28mprint\u001b[39m(G)\n",
      "\u001b[1;31mTypeError\u001b[0m: 'tuple' object does not support item assignment"
     ]
    }
   ],
   "source": [
    "G = (2,3,4)\n",
    "G[0]=10\n",
    "print(G)"
   ]
  },
  {
   "cell_type": "code",
   "execution_count": 7,
   "id": "59f01fc4",
   "metadata": {},
   "outputs": [
    {
     "name": "stdout",
     "output_type": "stream",
     "text": [
      "('a', 2, 'c', 'x', 'y', 'z', True)\n"
     ]
    }
   ],
   "source": [
    "t1 = ('a',2,'c')\n",
    "t2 = ('x','y','z',True)\n",
    "print(t1 + t2)"
   ]
  },
  {
   "cell_type": "code",
   "execution_count": 8,
   "id": "cb9d83f3",
   "metadata": {},
   "outputs": [
    {
     "name": "stdout",
     "output_type": "stream",
     "text": [
      "<class 'tuple'>\n",
      "('a', 2, 'c', 'a', 2, 'c', 'a', 2, 'c')\n"
     ]
    }
   ],
   "source": [
    "print(type(t1))\n",
    "print(t1*3)"
   ]
  },
  {
   "cell_type": "code",
   "execution_count": 27,
   "id": "766c2b08",
   "metadata": {
    "scrolled": true
   },
   "outputs": [
    {
     "name": "stdout",
     "output_type": "stream",
     "text": [
      "1\n"
     ]
    }
   ],
   "source": [
    "print(t1.count(2))"
   ]
  },
  {
   "cell_type": "code",
   "execution_count": 28,
   "id": "f71aad88",
   "metadata": {},
   "outputs": [
    {
     "name": "stdout",
     "output_type": "stream",
     "text": [
      "0\n"
     ]
    }
   ],
   "source": [
    "print(t1.index('a'))"
   ]
  },
  {
   "cell_type": "markdown",
   "id": "3e3b01c2",
   "metadata": {
    "tags": []
   },
   "source": [
    "##Write a program that accepts a sequence of comma seperated numbers from users and generates a list and a tuple with those numbers"
   ]
  },
  {
   "cell_type": "code",
   "execution_count": 20,
   "id": "8de176b8",
   "metadata": {
    "scrolled": true
   },
   "outputs": [
    {
     "name": "stdout",
     "output_type": "stream",
     "text": [
      "Enter a sequence of comma separated numbers 5,6,8\n",
      "List: ['5', '6', '8']\n",
      "Tuple: ('5', '6', '8')\n"
     ]
    }
   ],
   "source": [
    "numbers = input(\"Enter a sequence of comma separated numbers \")\n",
    "numbers_list = numbers.split(\",\")\n",
    "numbers_tuple = tuple(numbers_list)\n",
    "print(\"List:\", numbers_list)\n",
    "print(\"Tuple:\", numbers_tuple)"
   ]
  },
  {
   "cell_type": "code",
   "execution_count": 22,
   "id": "ad1f1963",
   "metadata": {},
   "outputs": [
    {
     "name": "stdout",
     "output_type": "stream",
     "text": [
      "['a', 3, True, 'b']\n"
     ]
    }
   ],
   "source": [
    "my_tuple = ('a',3,True,'b')\n",
    "my_list = list(my_tuple)\n",
    "# my_list = tuple(my_list)\n",
    "print(my_list)"
   ]
  },
  {
   "cell_type": "markdown",
   "id": "4a8e673e",
   "metadata": {},
   "source": [
    "### Dictionaries\n",
    "A dictionary in Python is a collection of key-value pairs. Each key is connected\n",
    "to a value, and you can use a key to access the value associated with that key.\n",
    "\n",
    "\n",
    "A key’s value can be a number, a string, a list, or even another dictionary.\n"
   ]
  },
  {
   "cell_type": "code",
   "execution_count": 11,
   "id": "be6b8505",
   "metadata": {
    "tags": []
   },
   "outputs": [
    {
     "name": "stdout",
     "output_type": "stream",
     "text": [
      "Ali\n",
      "25\n"
     ]
    }
   ],
   "source": [
    "user = {'Name': 'Ali',\n",
    "        'Age': 25}   \n",
    "\n",
    "print(user['Name'])\n",
    "print(user['Age'])\n"
   ]
  },
  {
   "cell_type": "code",
   "execution_count": 23,
   "id": "665de569",
   "metadata": {
    "tags": []
   },
   "outputs": [
    {
     "data": {
      "text/plain": [
       "{10: 20, 30: 5}"
      ]
     },
     "execution_count": 23,
     "metadata": {},
     "output_type": "execute_result"
    }
   ],
   "source": [
    "user2 = {10: 20, 30: 5}\n",
    "print(user2)"
   ]
  },
  {
   "cell_type": "code",
   "execution_count": 2,
   "id": "cc32ced4",
   "metadata": {
    "tags": []
   },
   "outputs": [
    {
     "name": "stdout",
     "output_type": "stream",
     "text": [
      "5\n"
     ]
    }
   ],
   "source": [
    "print(user2[30])"
   ]
  },
  {
   "cell_type": "code",
   "execution_count": 24,
   "id": "ee42d31b",
   "metadata": {
    "tags": []
   },
   "outputs": [
    {
     "name": "stdout",
     "output_type": "stream",
     "text": [
      "{'Name': 'Ali', 'Age': 25, 'Address': 'Egypt', 'weight': 70}\n"
     ]
    }
   ],
   "source": [
    "# Adding New Key-Value Pairs\n",
    "\n",
    "user = {'Name': 'Ali', 'Age': 25}\n",
    "\n",
    "user['Address'] = 'Egypt'\n",
    "user['weight'] =  70\n",
    "print(user)"
   ]
  },
  {
   "cell_type": "code",
   "execution_count": 4,
   "id": "4e54b3e8",
   "metadata": {},
   "outputs": [
    {
     "ename": "KeyError",
     "evalue": "'Ali'",
     "output_type": "error",
     "traceback": [
      "\u001b[1;31m---------------------------------------------------------------------------\u001b[0m",
      "\u001b[1;31mKeyError\u001b[0m                                  Traceback (most recent call last)",
      "Cell \u001b[1;32mIn[4], line 1\u001b[0m\n\u001b[1;32m----> 1\u001b[0m user[\u001b[38;5;124m'\u001b[39m\u001b[38;5;124mAli\u001b[39m\u001b[38;5;124m'\u001b[39m]\n",
      "\u001b[1;31mKeyError\u001b[0m: 'Ali'"
     ]
    }
   ],
   "source": [
    "# there is no indexing with value only with key\n",
    "user['Ali']"
   ]
  },
  {
   "cell_type": "code",
   "execution_count": 25,
   "id": "14705853",
   "metadata": {},
   "outputs": [],
   "source": [
    "# Modifying Values in a Dictionary\n",
    "user['Address'] = 'USA'"
   ]
  },
  {
   "cell_type": "code",
   "execution_count": 26,
   "id": "20310710",
   "metadata": {
    "tags": []
   },
   "outputs": [
    {
     "data": {
      "text/plain": [
       "{'Name': 'Ali', 'Age': 25, 'Address': 'USA', 'weight': 70}"
      ]
     },
     "execution_count": 26,
     "metadata": {},
     "output_type": "execute_result"
    }
   ],
   "source": [
    "user"
   ]
  },
  {
   "cell_type": "code",
   "execution_count": 8,
   "id": "81b82354",
   "metadata": {
    "tags": []
   },
   "outputs": [
    {
     "data": {
      "text/plain": [
       "{'Name': 'Ali', 'Age': 25, 'weight': 70}"
      ]
     },
     "execution_count": 8,
     "metadata": {},
     "output_type": "execute_result"
    }
   ],
   "source": [
    "# Removing Key-Value Pairs\n",
    "\n",
    "del user['Address']\n",
    "user "
   ]
  },
  {
   "cell_type": "code",
   "execution_count": 16,
   "id": "32056b25",
   "metadata": {},
   "outputs": [
    {
     "data": {
      "text/plain": [
       "{'Name': ['Ali', 'Ahmed'], 'Age': 25, 'weight': 70}"
      ]
     },
     "execution_count": 16,
     "metadata": {},
     "output_type": "execute_result"
    }
   ],
   "source": [
    "user['Name']=['Ali','Ahmed']\n",
    "user"
   ]
  },
  {
   "cell_type": "code",
   "execution_count": 17,
   "id": "9feafdc0",
   "metadata": {},
   "outputs": [
    {
     "name": "stdout",
     "output_type": "stream",
     "text": [
      "Ali\n"
     ]
    }
   ],
   "source": [
    "print(user['Name'][0])"
   ]
  },
  {
   "cell_type": "code",
   "execution_count": 28,
   "id": "e135ed36",
   "metadata": {
    "tags": []
   },
   "outputs": [
    {
     "name": "stdout",
     "output_type": "stream",
     "text": [
      "c++\n",
      "ruby\n"
     ]
    }
   ],
   "source": [
    "# A Dictionary of Similar Objects\n",
    "favorite_languages = {\n",
    "'mohamed': 'python',\n",
    "'ola': 'c',\n",
    "'emad': 'ruby',\n",
    "'sara': 'c++',\n",
    "}\n",
    "print(favorite_languages ['sara'])\n",
    "print(favorite_languages ['emad'])\n"
   ]
  },
  {
   "cell_type": "code",
   "execution_count": 29,
   "id": "6010ff20",
   "metadata": {},
   "outputs": [
    {
     "data": {
      "text/plain": [
       "{'mohamed': 'python', 'ola': 'c', 'emad': 'ruby', 'sara': 'c++'}"
      ]
     },
     "execution_count": 29,
     "metadata": {},
     "output_type": "execute_result"
    }
   ],
   "source": [
    "favorite_languages"
   ]
  },
  {
   "cell_type": "code",
   "execution_count": 31,
   "id": "899644bf",
   "metadata": {},
   "outputs": [
    {
     "name": "stdout",
     "output_type": "stream",
     "text": [
      "c\n"
     ]
    }
   ],
   "source": [
    "# get method\n",
    "ola_value = favorite_languages.get('ola')\n",
    "print(ola_value)"
   ]
  },
  {
   "cell_type": "code",
   "execution_count": 21,
   "id": "81839e5d",
   "metadata": {},
   "outputs": [
    {
     "name": "stdout",
     "output_type": "stream",
     "text": [
      "None\n"
     ]
    }
   ],
   "source": [
    "# If the key is not matched, print 'None'\n",
    "ahmed_value = favorite_languages.get('ahmed','None')\n",
    "print(emad_ahmed)"
   ]
  },
  {
   "cell_type": "code",
   "execution_count": 36,
   "id": "cd5a703e",
   "metadata": {
    "tags": []
   },
   "outputs": [
    {
     "name": "stdout",
     "output_type": "stream",
     "text": [
      "No max value assigned.\n"
     ]
    }
   ],
   "source": [
    "x = 'max'\n",
    "value = favorite_languages.get(x, f'No {x} value assigned.')\n",
    "print(value)"
   ]
  },
  {
   "cell_type": "code",
   "execution_count": 37,
   "id": "7d9cc5a9",
   "metadata": {
    "tags": []
   },
   "outputs": [],
   "source": [
    "user = {'Name': 'Ali',\n",
    "        'Age': 25}"
   ]
  },
  {
   "cell_type": "code",
   "execution_count": 38,
   "id": "4d6626fc",
   "metadata": {
    "tags": []
   },
   "outputs": [
    {
     "name": "stdout",
     "output_type": "stream",
     "text": [
      "\n",
      "Key: Name\n",
      "Value: Ali\n",
      "\n",
      "Key: Age\n",
      "Value: 25\n"
     ]
    }
   ],
   "source": [
    "#Looping Through a Dictionary\n",
    "# a=key, b=value\n",
    "for a, b in user.items():\n",
    "    print(f\"\\nKey: {a}\")\n",
    "    print(f\"Value: {b}\")"
   ]
  },
  {
   "cell_type": "code",
   "execution_count": 41,
   "id": "13bf45d6",
   "metadata": {},
   "outputs": [
    {
     "name": "stdout",
     "output_type": "stream",
     "text": [
      "\n",
      "Key: Age\n"
     ]
    }
   ],
   "source": [
    "print(f\"\\nKey: {a}\")"
   ]
  },
  {
   "cell_type": "code",
   "execution_count": 43,
   "id": "64543af1",
   "metadata": {},
   "outputs": [
    {
     "name": "stdout",
     "output_type": "stream",
     "text": [
      "Key: Age\n"
     ]
    }
   ],
   "source": [
    "print(f\"Key: {a}\")"
   ]
  },
  {
   "cell_type": "code",
   "execution_count": 44,
   "id": "0e180e3e",
   "metadata": {},
   "outputs": [
    {
     "data": {
      "text/plain": [
       "{'Name': 'Ali', 'Age': 25}"
      ]
     },
     "execution_count": 44,
     "metadata": {},
     "output_type": "execute_result"
    }
   ],
   "source": [
    "user"
   ]
  },
  {
   "cell_type": "code",
   "execution_count": 46,
   "id": "fbf8c791",
   "metadata": {
    "tags": []
   },
   "outputs": [
    {
     "name": "stdout",
     "output_type": "stream",
     "text": [
      "Name\n",
      "Age\n"
     ]
    }
   ],
   "source": [
    "for x in user.keys():\n",
    "    print(x)\n"
   ]
  },
  {
   "cell_type": "code",
   "execution_count": 47,
   "id": "55bd8443",
   "metadata": {
    "tags": []
   },
   "outputs": [
    {
     "name": "stdout",
     "output_type": "stream",
     "text": [
      "Ali\n",
      "25\n"
     ]
    }
   ],
   "source": [
    "for x in user.values():\n",
    "    print(x)\n"
   ]
  },
  {
   "cell_type": "markdown",
   "id": "1fda40dd",
   "metadata": {},
   "source": [
    "### if Statements"
   ]
  },
  {
   "cell_type": "code",
   "execution_count": 49,
   "id": "bea308c6",
   "metadata": {
    "scrolled": true,
    "tags": []
   },
   "outputs": [
    {
     "name": "stdout",
     "output_type": "stream",
     "text": [
      "False\n"
     ]
    }
   ],
   "source": [
    "age = 19\n",
    "\n",
    "print(age == 17)"
   ]
  },
  {
   "cell_type": "markdown",
   "id": "5f8fdf13",
   "metadata": {},
   "source": [
    "A single equal sign is really a statement; you might read the code as “Set the value of age equal to 19.” \n",
    "\n",
    "\n",
    "On the other hand, a double equal sign (==) , asks a question: “Is the value of age equal to 17?”\n",
    "\n"
   ]
  },
  {
   "cell_type": "code",
   "execution_count": 30,
   "id": "83d8a27b",
   "metadata": {
    "tags": []
   },
   "outputs": [
    {
     "name": "stdout",
     "output_type": "stream",
     "text": [
      "You can vote!\n"
     ]
    }
   ],
   "source": [
    "age = 15\n",
    "if age == 15:\n",
    "    print(\"You can vote!\")"
   ]
  },
  {
   "cell_type": "code",
   "execution_count": 31,
   "id": "18e69649",
   "metadata": {
    "tags": []
   },
   "outputs": [
    {
     "name": "stdout",
     "output_type": "stream",
     "text": [
      "You can not vote!\n"
     ]
    }
   ],
   "source": [
    "age = 19\n",
    "if age != 15:\n",
    "    print(\"You can not vote!\")"
   ]
  },
  {
   "cell_type": "code",
   "execution_count": 52,
   "id": "f7446fe0",
   "metadata": {},
   "outputs": [
    {
     "name": "stdout",
     "output_type": "stream",
     "text": [
      "Enter your age12\n",
      "You canot vote\n"
     ]
    }
   ],
   "source": [
    "age = int(input('Enter your age'))\n",
    "if age >= 15:\n",
    "    print(\"You can vote\")\n",
    "else:\n",
    "    print(\"You canot vote\")"
   ]
  },
  {
   "cell_type": "code",
   "execution_count": 32,
   "id": "cf18b54d",
   "metadata": {
    "tags": []
   },
   "outputs": [
    {
     "name": "stdout",
     "output_type": "stream",
     "text": [
      "True\n",
      "False\n"
     ]
    }
   ],
   "source": [
    "# Checking Whether a Value Is \"in\" a List\n",
    "names = ['Ali', 'mohamed', 'mona']\n",
    "print('mona' in names)\n",
    "print('ahmed' in names)\n"
   ]
  },
  {
   "cell_type": "code",
   "execution_count": 33,
   "id": "f7f9b853",
   "metadata": {
    "tags": []
   },
   "outputs": [
    {
     "name": "stdout",
     "output_type": "stream",
     "text": [
      "max, is not in the banned users list\n"
     ]
    }
   ],
   "source": [
    "# Checking Whether a Value Is Not \"in\" a List\n",
    "\n",
    "banned_users = ['Ali', 'mohamed', 'mona']\n",
    "user = 'max'\n",
    "if user not in banned_users:\n",
    "    print(f\"{user}, is not in the banned users list\")\n",
    "    "
   ]
  },
  {
   "cell_type": "code",
   "execution_count": null,
   "id": "82c335eb",
   "metadata": {},
   "outputs": [],
   "source": []
  },
  {
   "cell_type": "code",
   "execution_count": 53,
   "id": "4abbf49b",
   "metadata": {
    "tags": []
   },
   "outputs": [
    {
     "name": "stdout",
     "output_type": "stream",
     "text": [
      "Samy\n",
      "BMW\n",
      "Mona\n",
      "Toyota\n"
     ]
    }
   ],
   "source": [
    "# if-else Statements\n",
    "my_list = ['samy', 'bmw', 'mona', 'toyota']\n",
    "\n",
    "for i in my_list:\n",
    "    if i == 'bmw':\n",
    "       print(i.upper())\n",
    "    else:\n",
    "       print(i.title())\n",
    "# print only \"upper(bmw)\", and the rest has \"title\" format"
   ]
  },
  {
   "cell_type": "code",
   "execution_count": 56,
   "id": "a7179b79",
   "metadata": {},
   "outputs": [],
   "source": [
    "# Boolean Expressions\n",
    "active = True\n",
    "offline = False"
   ]
  },
  {
   "cell_type": "code",
   "execution_count": 41,
   "id": "c561a570",
   "metadata": {},
   "outputs": [
    {
     "name": "stdout",
     "output_type": "stream",
     "text": [
      "your offer is 60%\n"
     ]
    }
   ],
   "source": [
    "# The if-elif-else Chain\n",
    "age = 50\n",
    "\n",
    "if age < 30:\n",
    "   print(\"your offer is 30%\")\n",
    "elif age < 50:\n",
    "   print(\"your offer is 50%\")\n",
    "else:\n",
    "   print(\"your offer is 60%\")\n"
   ]
  },
  {
   "cell_type": "code",
   "execution_count": 37,
   "id": "1cb4ca01",
   "metadata": {
    "tags": []
   },
   "outputs": [
    {
     "name": "stdout",
     "output_type": "stream",
     "text": [
      "your offer is 30%\n"
     ]
    }
   ],
   "source": [
    "# Using Multiple elif Blocks\n",
    "\n",
    "age = 20\n",
    "if age < 30:\n",
    "   print(\"your offer is 30%\")\n",
    "elif age < 50:\n",
    "   print(\"your offer is 50%\")\n",
    "elif age < 60:\n",
    "   print(\"your offer is 60%\")\n",
    "else:\n",
    "   print(\"your offer is 70%\")\n"
   ]
  },
  {
   "cell_type": "code",
   "execution_count": 59,
   "id": "c2a917cd",
   "metadata": {
    "tags": []
   },
   "outputs": [
    {
     "name": "stdout",
     "output_type": "stream",
     "text": [
      "your offer is 50%\n"
     ]
    }
   ],
   "source": [
    "#Note, Python does not require an else block at the end of an if-elif chain.\n",
    "\n",
    "age = 40\n",
    "if age < 30:\n",
    "   print(\"your offer is 30%\")\n",
    "elif age < 50:\n",
    "   print(\"your offer is 50%\")\n",
    "elif age < 60:\n",
    "   print(\"your offer is 60%\")\n",
    "\n",
    "#No else statement.\n",
    "# If the age>60 nothing happens"
   ]
  },
  {
   "cell_type": "code",
   "execution_count": 60,
   "id": "e4dfbcd9",
   "metadata": {},
   "outputs": [
    {
     "name": "stdout",
     "output_type": "stream",
     "text": [
      "30\n"
     ]
    }
   ],
   "source": [
    "x = 10\n",
    "y = 20\n",
    "print(x+y)"
   ]
  },
  {
   "cell_type": "code",
   "execution_count": 61,
   "id": "6b31e812",
   "metadata": {
    "tags": []
   },
   "outputs": [
    {
     "name": "stdout",
     "output_type": "stream",
     "text": [
      "Tell me something, and I will repeat it back to you: I love You\n",
      "I love You\n"
     ]
    }
   ],
   "source": [
    "# User Input\n",
    "message = input(\"Tell me something, and I will repeat it back to you: \")\n",
    "print(message)"
   ]
  },
  {
   "cell_type": "code",
   "execution_count": 62,
   "id": "e3173f27-4902-475e-89a0-5e1c8917c706",
   "metadata": {
    "tags": []
   },
   "outputs": [
    {
     "name": "stdout",
     "output_type": "stream",
     "text": [
      "[1, 2, 3, 4]\n"
     ]
    }
   ],
   "source": [
    "a = [1,2]\n",
    "b = [3,4]\n",
    "a += b\n",
    "print(a)\n",
    "# Add list b on list a"
   ]
  },
  {
   "cell_type": "code",
   "execution_count": 71,
   "id": "00647b4c",
   "metadata": {
    "tags": []
   },
   "outputs": [
    {
     "name": "stdout",
     "output_type": "stream",
     "text": [
      "ali mohamed\n"
     ]
    }
   ],
   "source": [
    "name = \"ali \"\n",
    "name += \"mohamed\"\n",
    "print(name)"
   ]
  },
  {
   "cell_type": "code",
   "execution_count": 69,
   "id": "e23f9784",
   "metadata": {},
   "outputs": [
    {
     "name": "stdout",
     "output_type": "stream",
     "text": [
      "ali mohamed\n"
     ]
    }
   ],
   "source": [
    "name = \"ali\"\n",
    "name = name +\" \"+ \"mohamed\"\n",
    "print(name)"
   ]
  },
  {
   "cell_type": "code",
   "execution_count": 72,
   "id": "b8406655",
   "metadata": {
    "tags": []
   },
   "outputs": [
    {
     "name": "stdout",
     "output_type": "stream",
     "text": [
      "If you tell us who you are, we can personalize the messages you see.\n",
      "What is your first name? Bassant\n",
      "\n",
      "Hello, Bassant!\n"
     ]
    }
   ],
   "source": [
    "prompt = \"If you tell us who you are, we can personalize the messages you see.\"\n",
    "prompt += \"\\nWhat is your first name? \"\n",
    "name = input(prompt)\n",
    "print(f\"\\nHello, {name}!\")\n"
   ]
  },
  {
   "cell_type": "code",
   "execution_count": null,
   "id": "c2cd46df",
   "metadata": {
    "tags": []
   },
   "outputs": [],
   "source": [
    "age = input(\"How old are you? \") \n",
    "\n",
    "if age >= 18 :\n",
    "    print('you can vote')"
   ]
  },
  {
   "cell_type": "code",
   "execution_count": 3,
   "id": "094acada",
   "metadata": {
    "tags": []
   },
   "outputs": [
    {
     "name": "stdout",
     "output_type": "stream",
     "text": [
      "How old are you? 12\n",
      "<class 'str'>\n"
     ]
    }
   ],
   "source": [
    "#When you use the input()  function, Python interprets everything the user enters as a string.\n",
    "\n",
    "age = input(\"How old are you? \")\n",
    "print(type(age))"
   ]
  },
  {
   "cell_type": "code",
   "execution_count": 74,
   "id": "fab5b327",
   "metadata": {},
   "outputs": [
    {
     "name": "stdout",
     "output_type": "stream",
     "text": [
      "20\n",
      "<class 'str'>\n"
     ]
    }
   ],
   "source": [
    "age = 10\n",
    "age = \"20\"\n",
    "print(age)\n",
    "print(type(age))"
   ]
  },
  {
   "cell_type": "code",
   "execution_count": 1,
   "id": "0b4d5eba",
   "metadata": {
    "tags": []
   },
   "outputs": [
    {
     "name": "stdout",
     "output_type": "stream",
     "text": [
      "How old are you? 12\n",
      "You cannot vote\n"
     ]
    }
   ],
   "source": [
    "#Using int() to Accept Numeric Input\n",
    "\n",
    "age = input(\"How old are you? \")# \"20\"\n",
    "age = int(age) # 20\n",
    "if age >= 18:\n",
    "   print('you can vote')\n",
    "else:\n",
    "    print('You cannot vote')"
   ]
  },
  {
   "cell_type": "code",
   "execution_count": 77,
   "id": "69128c4f",
   "metadata": {
    "tags": []
   },
   "outputs": [
    {
     "name": "stdout",
     "output_type": "stream",
     "text": [
      "Enter Score Grade: 100\n",
      "grade A\n"
     ]
    }
   ],
   "source": [
    "score = input(\"Enter Score Grade: \")\n",
    "score = int(score) \n",
    "if score < 60:\n",
    "   print(\"Your grade is an F\")\n",
    "elif score < 70:\n",
    "   print(\"grade D\")\n",
    "elif score < 80:\n",
    "   print(\"grade C\")\n",
    "elif score < 90:\n",
    "   print(\"grade B\" )\n",
    "elif score <= 100:\n",
    "   print(\"grade A\")\n",
    "else:\n",
    "   print(\"wrong score\")"
   ]
  },
  {
   "cell_type": "code",
   "execution_count": 12,
   "id": "2b3edb92",
   "metadata": {},
   "outputs": [
    {
     "name": "stdout",
     "output_type": "stream",
     "text": [
      "a and b are equal\n"
     ]
    }
   ],
   "source": [
    "a = 30\n",
    "b = 30\n",
    "print('b is geater') if b>a else print('a and b are equal') if a==b else print('a is greater')"
   ]
  },
  {
   "cell_type": "code",
   "execution_count": 46,
   "id": "e210a84d",
   "metadata": {},
   "outputs": [
    {
     "name": "stdout",
     "output_type": "stream",
     "text": [
      "21.666666666666668\n"
     ]
    }
   ],
   "source": [
    "print(65 / 3)"
   ]
  },
  {
   "cell_type": "code",
   "execution_count": 4,
   "id": "ca51e366",
   "metadata": {},
   "outputs": [
    {
     "name": "stdout",
     "output_type": "stream",
     "text": [
      "21\n"
     ]
    }
   ],
   "source": [
    "print(65 // 3)"
   ]
  },
  {
   "cell_type": "code",
   "execution_count": 5,
   "id": "0e1e65bc",
   "metadata": {
    "tags": []
   },
   "outputs": [
    {
     "name": "stdout",
     "output_type": "stream",
     "text": [
      "1\n",
      "2\n",
      "3\n",
      "4\n",
      "5\n"
     ]
    }
   ],
   "source": [
    "# while Loops\n",
    "number = 1\n",
    "while number <= 5:\n",
    "   print(number)\n",
    "   number += 1"
   ]
  },
  {
   "cell_type": "code",
   "execution_count": 13,
   "id": "0614cf9a",
   "metadata": {
    "tags": []
   },
   "outputs": [
    {
     "name": "stdout",
     "output_type": "stream",
     "text": [
      "\n",
      "Tell me something, and I will repeat it back to you:\n",
      "Enter 'quit' to end the program. Bassant\n",
      "Bassant\n",
      "\n",
      "Tell me something, and I will repeat it back to you:\n",
      "Enter 'quit' to end the program. quit\n",
      "quit\n"
     ]
    }
   ],
   "source": [
    "# Letting the User Choose When to Quit\n",
    "\n",
    "prompt = \"\\nTell me something, and I will repeat it back to you:\"\n",
    "prompt += \"\\nEnter 'quit' to end the program. \"\n",
    "\n",
    "message = \"\"\n",
    "while message != 'quit':\n",
    "   message = input(prompt)\n",
    "   print(message)\n"
   ]
  },
  {
   "cell_type": "code",
   "execution_count": 2,
   "id": "30f6ee9d",
   "metadata": {},
   "outputs": [
    {
     "name": "stdout",
     "output_type": "stream",
     "text": [
      "True\n"
     ]
    }
   ],
   "source": [
    "print('Ali' != 'quit')"
   ]
  },
  {
   "cell_type": "code",
   "execution_count": 3,
   "id": "aea93894",
   "metadata": {
    "tags": []
   },
   "outputs": [
    {
     "name": "stdout",
     "output_type": "stream",
     "text": [
      "\n",
      "Tell me something, and I will repeat it back to you:\n",
      "Enter 'quit' to end the program. active\n",
      "active\n",
      "\n",
      "Tell me something, and I will repeat it back to you:\n",
      "Enter 'quit' to end the program. H\n",
      "H\n",
      "\n",
      "Tell me something, and I will repeat it back to you:\n",
      "Enter 'quit' to end the program. quit\n"
     ]
    }
   ],
   "source": [
    "# Using a Flag\n",
    "prompt = \"\\nTell me something, and I will repeat it back to you:\"\n",
    "prompt += \"\\nEnter 'quit' to end the program. \"\n",
    "\n",
    "active = True\n",
    "while active:\n",
    "   message = input(prompt)\n",
    "   if message == 'quit':\n",
    "       active = False\n",
    "   else:\n",
    "       print(message)"
   ]
  },
  {
   "cell_type": "code",
   "execution_count": 4,
   "id": "7d23de69",
   "metadata": {
    "tags": []
   },
   "outputs": [
    {
     "name": "stdout",
     "output_type": "stream",
     "text": [
      "\n",
      "Please enter the name of a city you have visited:\n",
      "(Enter 'quit' when you are finished.) cairo\n",
      "I'd love to go to Cairo!\n",
      "\n",
      "Please enter the name of a city you have visited:\n",
      "(Enter 'quit' when you are finished.) paris\n",
      "I'd love to go to Paris!\n",
      "\n",
      "Please enter the name of a city you have visited:\n",
      "(Enter 'quit' when you are finished.) quit\n"
     ]
    }
   ],
   "source": [
    "#Using break to Exit a Loop\n",
    "\n",
    "prompt = \"\\nPlease enter the name of a city you have visited:\"\n",
    "prompt += \"\\n(Enter 'quit' when you are finished.) \"\n",
    "while True:\n",
    "    \n",
    "   city = input(prompt)\n",
    "   if city == 'quit':\n",
    "       break\n",
    "   else:\n",
    "       print(f\"I'd love to go to {city.title()}!\")\n",
    "\n"
   ]
  },
  {
   "cell_type": "code",
   "execution_count": 1,
   "id": "17898f8e",
   "metadata": {
    "tags": []
   },
   "outputs": [
    {
     "name": "stdout",
     "output_type": "stream",
     "text": [
      "1\n",
      "2\n",
      "3\n",
      "4\n",
      "5\n"
     ]
    }
   ],
   "source": [
    "#Avoiding Infinite Loops\n",
    "x = 1\n",
    "while x <= 5:\n",
    "   print(x)\n",
    "   x += 1"
   ]
  },
  {
   "cell_type": "code",
   "execution_count": null,
   "id": "cb10d957",
   "metadata": {
    "scrolled": true,
    "tags": []
   },
   "outputs": [],
   "source": [
    "# infinite loop      DO NOT RUN\n",
    "# it will print 1s untill the system need to be restarted\n",
    "x = 1\n",
    "while 1 <= 5:\n",
    "   print(x)"
   ]
  },
  {
   "cell_type": "code",
   "execution_count": null,
   "id": "ed4b9e66",
   "metadata": {},
   "outputs": [],
   "source": [
    "''' Important Notes\n",
    "List []\n",
    "Tuple ()\n",
    "Dictionary {}\n",
    "\n",
    "lists use \"remove\", dictionaries use \"del\", Tuples can't be modified\n",
    "'''"
   ]
  }
 ],
 "metadata": {
  "kernelspec": {
   "display_name": "Python 3 (ipykernel)",
   "language": "python",
   "name": "python3"
  },
  "language_info": {
   "codemirror_mode": {
    "name": "ipython",
    "version": 3
   },
   "file_extension": ".py",
   "mimetype": "text/x-python",
   "name": "python",
   "nbconvert_exporter": "python",
   "pygments_lexer": "ipython3",
   "version": "3.11.5"
  }
 },
 "nbformat": 4,
 "nbformat_minor": 5
}
