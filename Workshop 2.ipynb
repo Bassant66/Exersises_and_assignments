{
 "cells": [
  {
   "cell_type": "markdown",
   "id": "68e7c540",
   "metadata": {},
   "source": [
    "1) Write a Python program to add, subtract, multiply, and divide two numbers entered by the user. "
   ]
  },
  {
   "cell_type": "code",
   "execution_count": 2,
   "id": "b6b6c59a",
   "metadata": {},
   "outputs": [
    {
     "name": "stdout",
     "output_type": "stream",
     "text": [
      "Enter the first number 6\n",
      "Enter the second number 2\n",
      "8\n",
      "4\n",
      "12\n",
      "3.0\n"
     ]
    }
   ],
   "source": [
    "x = int(input(\"Enter the first number \"))\n",
    "y = int(input(\"Enter the second number \"))\n",
    "\n",
    "add = x + y\n",
    "sub = x - y\n",
    "mult = x * y\n",
    "div = x / y\n",
    "\n",
    "print(add)\n",
    "print(sub)\n",
    "print(mult)\n",
    "print(div)"
   ]
  },
  {
   "cell_type": "markdown",
   "id": "fbf741d7",
   "metadata": {},
   "source": [
    "2) Given a list numbers = [10, 20, 30, 40, 50, 60], write a program to extract: \n",
    "o The first three elements \n",
    "o The last two elements"
   ]
  },
  {
   "cell_type": "code",
   "execution_count": 9,
   "id": "aa2f27d2",
   "metadata": {
    "scrolled": true
   },
   "outputs": [
    {
     "name": "stdout",
     "output_type": "stream",
     "text": [
      "First 3 numbers: [10, 20, 30]\n",
      "Last 2 numbers: [50, 60]\n"
     ]
    }
   ],
   "source": [
    "num_list = [10, 20, 30, 40, 50, 60]\n",
    "x = num_list[:3]\n",
    "y = num_list[-2:]\n",
    "print(\"First 3 numbers:\", x)\n",
    "print(\"Last 2 numbers:\", y)"
   ]
  },
  {
   "cell_type": "markdown",
   "id": "4e406418",
   "metadata": {},
   "source": [
    "3) Write a Python program that takes a user-input string and converts it to: \n",
    "o All uppercase letters \n",
    "o All lowercase letters \n",
    "o Reverse order "
   ]
  },
  {
   "cell_type": "code",
   "execution_count": 11,
   "id": "894e4e82",
   "metadata": {},
   "outputs": [
    {
     "name": "stdout",
     "output_type": "stream",
     "text": [
      "Enter a string string\n",
      "upper: {'STRING'}\n",
      "lower: {'string'}\n",
      "rev: {'gnirts'}\n"
     ]
    }
   ],
   "source": [
    "user_input = input(\"Enter a string \")\n",
    "upper = user_input.upper()\n",
    "lower = user_input.lower()\n",
    "rev = user_input[::-1]\n",
    "\n",
    "print(f\"upper:\", {upper})\n",
    "print(f\"lower:\", {lower})\n",
    "print(f\"rev:\", {rev})"
   ]
  },
  {
   "cell_type": "markdown",
   "id": "6564024a",
   "metadata": {},
   "source": [
    "4) Write a program to determine if a number entered by the user is even or odd."
   ]
  },
  {
   "cell_type": "code",
   "execution_count": 24,
   "id": "f2c4fc58",
   "metadata": {},
   "outputs": [
    {
     "name": "stdout",
     "output_type": "stream",
     "text": [
      "Enter a number 3\n",
      "this is an odd number\n"
     ]
    }
   ],
   "source": [
    "number = int(input(\"Enter a number \"))\n",
    "if number %2 == 0:\n",
    "    print(\"This is an even number\")\n",
    "else:\n",
    "    print(\"this is an odd number\")\n",
    "        "
   ]
  },
  {
   "cell_type": "markdown",
   "id": "1db351da",
   "metadata": {},
   "source": [
    "5) Print all numbers from 1 to 50 that are divisible by both 3 and 5. "
   ]
  },
  {
   "cell_type": "code",
   "execution_count": 19,
   "id": "e09506bd",
   "metadata": {
    "scrolled": true
   },
   "outputs": [
    {
     "name": "stdout",
     "output_type": "stream",
     "text": [
      "15\n",
      "30\n",
      "45\n"
     ]
    }
   ],
   "source": [
    "for num in range(1, 51):\n",
    "    if num %3 ==0 and num %5 == 0:\n",
    "        print(num)"
   ]
  },
  {
   "cell_type": "markdown",
   "id": "3982022f",
   "metadata": {},
   "source": [
    "6) Write a function factorial(n) that returns the factorial of a given number n."
   ]
  },
  {
   "cell_type": "code",
   "execution_count": 25,
   "id": "0f8829ac",
   "metadata": {},
   "outputs": [
    {
     "name": "stdout",
     "output_type": "stream",
     "text": [
      "120\n"
     ]
    }
   ],
   "source": [
    "def factorial(n):\n",
    "    result = 1\n",
    "    for i in range(1, n+1):\n",
    "        result *= i\n",
    "    return result\n",
    "\n",
    "print(factorial(5))"
   ]
  },
  {
   "cell_type": "markdown",
   "id": "dc106c05",
   "metadata": {},
   "source": [
    "7) Create a list of squares of all even numbers from 1 to 20 using list comprehension."
   ]
  },
  {
   "cell_type": "code",
   "execution_count": 32,
   "id": "f3cc3dc5",
   "metadata": {},
   "outputs": [
    {
     "name": "stdout",
     "output_type": "stream",
     "text": [
      "[4, 16, 36, 64, 100, 144, 196, 256, 324, 400]\n"
     ]
    }
   ],
   "source": [
    "squares = []\n",
    "for num in range(1, 21):\n",
    "    if num %2 == 0:\n",
    "        squares.append(num**2)\n",
    "        \n",
    "print(squares)"
   ]
  },
  {
   "cell_type": "markdown",
   "id": "87467111",
   "metadata": {},
   "source": [
    "8) Write a program to count the frequency of each character in a given string and store the result in a dictionary. "
   ]
  },
  {
   "cell_type": "code",
   "execution_count": 1,
   "id": "a4257d86",
   "metadata": {},
   "outputs": [
    {
     "name": "stdout",
     "output_type": "stream",
     "text": [
      "{'t': 5, 'h': 2, 'i': 2, 's': 3, ' ': 3, 'e': 3, 'a': 1, 'm': 1, 'n': 1}\n"
     ]
    }
   ],
   "source": [
    "my_dic = {}\n",
    "statement = \"this is the statement\"\n",
    "for char in statement:\n",
    "    if char in my_dic:\n",
    "        my_dic[char] += 1\n",
    "    else:\n",
    "        my_dic[char] = 1\n",
    "        \n",
    "print(my_dic)"
   ]
  },
  {
   "cell_type": "markdown",
   "id": "8ad2275a",
   "metadata": {},
   "source": [
    "9) Write a program to print the following pattern for a given n: \n",
    "1 \n",
    "12 \n",
    "123 \n",
    "1234 \n",
    "(Each row contains numbers from 1 to the row number.) "
   ]
  },
  {
   "cell_type": "code",
   "execution_count": 3,
   "id": "62858e32",
   "metadata": {},
   "outputs": [
    {
     "name": "stdout",
     "output_type": "stream",
     "text": [
      "1\n",
      "12\n",
      "123\n",
      "1234\n",
      "12345\n"
     ]
    }
   ],
   "source": [
    "n = 5\n",
    "for num in range(1, n+1):\n",
    "    for i in range(1, num+1):\n",
    "        print(i, end=\"\")\n",
    "    print()"
   ]
  },
  {
   "cell_type": "markdown",
   "id": "6e5f8fa0",
   "metadata": {},
   "source": [
    "##10) Write a program that takes two numbers from the user and divides the first by the second. Handle the case where the second number is zero with a meaningful error message."
   ]
  },
  {
   "cell_type": "code",
   "execution_count": 33,
   "id": "61b97dae",
   "metadata": {},
   "outputs": [
    {
     "name": "stdout",
     "output_type": "stream",
     "text": [
      "Enter the first number: 5\n",
      "Enter the second number: 0\n",
      "The second number should't equal zero.\n"
     ]
    }
   ],
   "source": [
    "x = int(input(\"Enter the first number: \"))\n",
    "y = int(input(\"Enter the second number: \"))\n",
    "try:\n",
    "    print(x/y)\n",
    "except ZeroDivisionError:\n",
    "    print(\"The second number should't equal zero.\")"
   ]
  }
 ],
 "metadata": {
  "kernelspec": {
   "display_name": "Python 3 (ipykernel)",
   "language": "python",
   "name": "python3"
  },
  "language_info": {
   "codemirror_mode": {
    "name": "ipython",
    "version": 3
   },
   "file_extension": ".py",
   "mimetype": "text/x-python",
   "name": "python",
   "nbconvert_exporter": "python",
   "pygments_lexer": "ipython3",
   "version": "3.11.5"
  }
 },
 "nbformat": 4,
 "nbformat_minor": 5
}
