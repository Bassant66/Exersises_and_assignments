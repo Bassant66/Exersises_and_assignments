{
 "cells": [
  {
   "cell_type": "markdown",
   "id": "e1aa6fd3",
   "metadata": {},
   "source": [
    "# Python Sessions with DEPI - session 3"
   ]
  },
  {
   "cell_type": "markdown",
   "id": "c551e8c8",
   "metadata": {},
   "source": [
    "### Defining a Function"
   ]
  },
  {
   "cell_type": "code",
   "execution_count": 1,
   "id": "cec5ef10-03fa-4398-9cec-68057f8222d2",
   "metadata": {
    "scrolled": true,
    "tags": []
   },
   "outputs": [
    {
     "name": "stdout",
     "output_type": "stream",
     "text": [
      "100\n"
     ]
    }
   ],
   "source": [
    "print(100)"
   ]
  },
  {
   "cell_type": "code",
   "execution_count": null,
   "id": "be87d06a",
   "metadata": {},
   "outputs": [],
   "source": [
    "'''\n",
    "Making the function:\n",
    "def \"Function name\"(\"parameters\"):\n",
    "    return()\n",
    "    \n",
    "Calling it:\n",
    "\"Function name\"(\"Arguments\")"
   ]
  },
  {
   "cell_type": "code",
   "execution_count": 2,
   "id": "be51f265",
   "metadata": {
    "tags": []
   },
   "outputs": [
    {
     "name": "stdout",
     "output_type": "stream",
     "text": [
      "Hello!\n",
      "Hello!\n",
      "Hello!\n"
     ]
    }
   ],
   "source": [
    "# function definition. \n",
    "def say_Hello():\n",
    "   \n",
    "   print(\"Hello!\")\n",
    "   print(\"Hello!\")\n",
    "   print(\"Hello!\")\n",
    "\n",
    "# function call\n",
    "say_Hello()"
   ]
  },
  {
   "cell_type": "code",
   "execution_count": 3,
   "id": "adba1f18",
   "metadata": {
    "tags": []
   },
   "outputs": [
    {
     "name": "stdout",
     "output_type": "stream",
     "text": [
      "Hello, Ahmed!\n"
     ]
    }
   ],
   "source": [
    "# Passing Information to a Function\n",
    "def say_Hello(username):\n",
    "   \"\"\"Display a simple greeting.\"\"\"\n",
    "   print(f\"Hello, {username.title()}!\")\n",
    "\n",
    "say_Hello('ahmed')"
   ]
  },
  {
   "cell_type": "code",
   "execution_count": 6,
   "id": "78d093ac",
   "metadata": {},
   "outputs": [
    {
     "name": "stdout",
     "output_type": "stream",
     "text": [
      "Enter Your Name Bassant\n",
      "Hello,Bassant\n"
     ]
    }
   ],
   "source": [
    "def say_Hello():\n",
    "    input1 = input(\"Enter Your Name \")\n",
    "    print(f\"Hello,{input1}\")\n",
    "say_Hello()"
   ]
  },
  {
   "cell_type": "markdown",
   "id": "f2a10661",
   "metadata": {},
   "source": [
    "### Arguments and Parameters\n",
    "The variable username in the definition of say_Hello() is an example of a\n",
    "**parameter**, a piece of information the function needs to do its job. \n",
    "The **value 'ahmed' in say_Hello('ahmed') is an example of an argument**. \n",
    "An argument is a piece of information that’s passed from a function call to a function.\n"
   ]
  },
  {
   "cell_type": "code",
   "execution_count": 1,
   "id": "d16d0e83",
   "metadata": {
    "tags": []
   },
   "outputs": [
    {
     "name": "stdout",
     "output_type": "stream",
     "text": [
      "\n",
      "I have a dog.\n",
      "My dog's name is Harry.\n"
     ]
    }
   ],
   "source": [
    "# Positional Arguments\n",
    "\n",
    "def describe_pet(animal_type, pet_name):\n",
    "   \n",
    "   print(f\"\\nI have a {animal_type}.\")\n",
    "   print(f\"My {animal_type}'s name is {pet_name.title()}.\")\n",
    "\n",
    "describe_pet('dog', 'harry')\n"
   ]
  },
  {
   "cell_type": "code",
   "execution_count": 2,
   "id": "cc27acaf",
   "metadata": {
    "tags": []
   },
   "outputs": [
    {
     "name": "stdout",
     "output_type": "stream",
     "text": [
      "\n",
      "I have a dog.\n",
      "My dog's name is Harry.\n",
      "\n",
      "I have a cat.\n",
      "My cat's name is Lilly.\n",
      "\n",
      "I have a dog.\n",
      "My dog's name is Max.\n"
     ]
    }
   ],
   "source": [
    "# Multiple Function Calls\n",
    "\n",
    "describe_pet('dog', 'harry')\n",
    "describe_pet('cat', 'lilly')\n",
    "describe_pet('dog', 'max')"
   ]
  },
  {
   "cell_type": "code",
   "execution_count": 3,
   "id": "f464ff7c",
   "metadata": {
    "tags": []
   },
   "outputs": [
    {
     "name": "stdout",
     "output_type": "stream",
     "text": [
      "\n",
      "I have a max.\n",
      "My max's name is Dog.\n"
     ]
    }
   ],
   "source": [
    "#Order Matters in Positional Arguments\n",
    "describe_pet('max','dog')\n"
   ]
  },
  {
   "cell_type": "code",
   "execution_count": 4,
   "id": "20f75bb2",
   "metadata": {
    "tags": []
   },
   "outputs": [
    {
     "name": "stdout",
     "output_type": "stream",
     "text": [
      "\n",
      "I have a dog.\n",
      "My dog's name is Max.\n",
      "\n",
      "I have a dog.\n",
      "My dog's name is Max.\n"
     ]
    }
   ],
   "source": [
    "# Keyword Arguments\n",
    "def describe_pet(animal_type, pet_name):\n",
    "   \"\"\"Display information about a pet.\"\"\"\n",
    "   print(f\"\\nI have a {animal_type}.\")\n",
    "   print(f\"My {animal_type}'s name is {pet_name.title()}.\")\n",
    "   \n",
    "\n",
    "describe_pet(animal_type='dog', pet_name='max')\n",
    "# or\n",
    "describe_pet( pet_name='max', animal_type='dog')\n"
   ]
  },
  {
   "cell_type": "code",
   "execution_count": 5,
   "id": "cf5850fe",
   "metadata": {
    "tags": []
   },
   "outputs": [
    {
     "name": "stdout",
     "output_type": "stream",
     "text": [
      "\n",
      "your name is: Mahmoud Hassan.\n",
      "phone : 2515151\n",
      "Age : 20\n",
      "Address : Egypt\n"
     ]
    }
   ],
   "source": [
    "# Quiz \n",
    "\n",
    "def about_user(user_name, phone,age,address):\n",
    "   print(f\"\\nyour name is: {user_name.title()}.\")\n",
    "   print(f\"phone : {phone}\")\n",
    "   print(f\"Age : {age}\")\n",
    "   print(f\"Address : {address.title()}\")\n",
    "\n",
    "about_user(user_name='mahmoud hassan', phone='2515151', age=20, address='egypt' )"
   ]
  },
  {
   "cell_type": "code",
   "execution_count": 8,
   "id": "12715b78",
   "metadata": {
    "tags": []
   },
   "outputs": [
    {
     "name": "stdout",
     "output_type": "stream",
     "text": [
      "\n",
      "your name is: Mahmoud Hassan.\n",
      "phone : 01054488544155\n",
      "Age : 20\n",
      "Address : USA\n"
     ]
    }
   ],
   "source": [
    "# Default Values\n",
    "def about_user(user_name, phone,age,address='Egypt'):\n",
    "   print(f\"\\nyour name is: {user_name.title()}.\")\n",
    "   print(f\"phone : {phone}\")\n",
    "   print(f\"Age : {age}\")\n",
    "   print(f\"Address : {address.upper()}\")\n",
    "\n",
    "about_user(user_name='mahmoud hassan', phone='01054488544155', age=20, address=\"USA\")"
   ]
  },
  {
   "cell_type": "code",
   "execution_count": 9,
   "id": "0a2c2c92",
   "metadata": {
    "tags": []
   },
   "outputs": [
    {
     "name": "stdout",
     "output_type": "stream",
     "text": [
      "\n",
      "your name is: Ali.\n",
      "phone : 6516516\n",
      "Age : 20\n",
      "Address : Egypt\n"
     ]
    }
   ],
   "source": [
    "#OR\n",
    "\n",
    "def about_user(user_name, phone='6516516',age=20,address='Egypt'):\n",
    "   print(f\"\\nyour name is: {user_name.title()}.\")\n",
    "   print(f\"phone : {phone}\")\n",
    "   print(f\"Age : {age}\")\n",
    "   print(f\"Address : {address.title()}\")\n",
    "\n",
    "about_user('ali')\n"
   ]
  },
  {
   "cell_type": "code",
   "execution_count": 20,
   "id": "198c7db8-efb9-4dd2-b025-392e03f5be1d",
   "metadata": {
    "tags": []
   },
   "outputs": [
    {
     "name": "stdout",
     "output_type": "stream",
     "text": [
      "Ali Hassan\n",
      "None\n"
     ]
    }
   ],
   "source": [
    "def get_name(first_name, last_name):\n",
    "   full_name = f\"{first_name} {last_name}\"\n",
    "   print(full_name.title())\n",
    "    \n",
    "x = get_name('ali', 'hassan')   \n",
    "print(x)"
   ]
  },
  {
   "cell_type": "code",
   "execution_count": 21,
   "id": "c911e100",
   "metadata": {
    "tags": []
   },
   "outputs": [
    {
     "name": "stdout",
     "output_type": "stream",
     "text": [
      "Ali Hassan\n"
     ]
    }
   ],
   "source": [
    "# Return Values\n",
    "\n",
    "def get_name(first_name, last_name):\n",
    "   \n",
    "   full_name = f\"{first_name} {last_name}\"\n",
    "   \n",
    "   return full_name.title()\n",
    "\n",
    "x = get_name('ali', 'hassan')\n",
    "print(x)"
   ]
  },
  {
   "cell_type": "code",
   "execution_count": 23,
   "id": "ecb24abe",
   "metadata": {
    "tags": []
   },
   "outputs": [
    {
     "name": "stdout",
     "output_type": "stream",
     "text": [
      "Ola Hassan\n"
     ]
    }
   ],
   "source": [
    "name_from_function_2 = get_name('ola', 'hassan')\n",
    "print(name_from_function_2)"
   ]
  },
  {
   "cell_type": "code",
   "execution_count": 47,
   "id": "951a7ab9",
   "metadata": {
    "tags": []
   },
   "outputs": [
    {
     "name": "stdout",
     "output_type": "stream",
     "text": [
      "30\n"
     ]
    }
   ],
   "source": [
    "def abc(num1, num2):\n",
    "    number = num1 + num2\n",
    "#   print(number)\n",
    "    return number\n",
    "\n",
    "    \n",
    "a = abc(10, 20)    \n",
    "print(a)"
   ]
  },
  {
   "cell_type": "markdown",
   "id": "9742439f-d710-4bb7-89ef-245ff10723f7",
   "metadata": {
    "collapsed": true,
    "jupyter": {
     "outputs_hidden": true
    }
   },
   "source": [
    "### Quiz:\n",
    "### Write a function that takes the username as input from the user, and returns (Hello, \"UserName\")"
   ]
  },
  {
   "cell_type": "code",
   "execution_count": 35,
   "id": "39fdd592-d41c-487e-9144-227a8e18f842",
   "metadata": {},
   "outputs": [
    {
     "name": "stdout",
     "output_type": "stream",
     "text": [
      "Enter your name: Bassant\n",
      "Hello, Bassant \n"
     ]
    }
   ],
   "source": [
    "def greet_user():\n",
    "    user_name = input(\"Enter your name: \")\n",
    "    print(f\"Hello, {user_name} \")\n",
    "#or return(f\"Hello, {user_name} \")\n",
    "greet_user()"
   ]
  },
  {
   "cell_type": "markdown",
   "id": "2d668d1b",
   "metadata": {},
   "source": [
    "### Quiz \n",
    "Passing a List\n",
    "\n",
    "\n",
    "Print this output by passing a list of names to a function called say_hello_username()\n",
    "\n",
    "\n",
    "Hello, Ali!\n",
    "\n",
    "Hello, Samy!\n",
    "    \n",
    "Hello, Mahmoud!\n"
   ]
  },
  {
   "cell_type": "code",
   "execution_count": 32,
   "id": "d89fd665",
   "metadata": {
    "tags": []
   },
   "outputs": [
    {
     "name": "stdout",
     "output_type": "stream",
     "text": [
      "Hello, Ali!\n",
      "Hello, Samy!\n",
      "Hello, Mahmoud!\n"
     ]
    }
   ],
   "source": [
    "def say_hello_username(names):\n",
    "   \"\"\"Print a simple greeting to each user in the list.\"\"\"\n",
    "   for name in names:\n",
    "       msg = f\"Hello, {name.title()}!\"\n",
    "       print(msg)\n",
    "\n",
    "usernames = ['ali', 'samy', 'mahmoud']\n",
    "say_hello_username(usernames)\n"
   ]
  },
  {
   "cell_type": "code",
   "execution_count": 42,
   "id": "5ac04153",
   "metadata": {
    "scrolled": true
   },
   "outputs": [
    {
     "name": "stdout",
     "output_type": "stream",
     "text": [
      "Hello, Ali!\n",
      "Hello, Ahmed!\n",
      "Hello, Mohamed!\n"
     ]
    }
   ],
   "source": [
    "# Storing Your Functions in Modules\n",
    "\n",
    "def say_hello_username(names):\n",
    " \n",
    "   for name in names:\n",
    "       msg = f\"Hello, {name.title()}!\"\n",
    "       print(msg)\n",
    "u_names = [\"ali\",\"ahmed\",\"mohamed\"]\n",
    "say_hello_username(u_names)"
   ]
  },
  {
   "cell_type": "code",
   "execution_count": 40,
   "id": "b42dea2c",
   "metadata": {},
   "outputs": [
    {
     "ename": "AttributeError",
     "evalue": "module 'test' has no attribute 'say_hello_username'",
     "output_type": "error",
     "traceback": [
      "\u001b[1;31m---------------------------------------------------------------------------\u001b[0m",
      "\u001b[1;31mAttributeError\u001b[0m                            Traceback (most recent call last)",
      "Cell \u001b[1;32mIn[40], line 3\u001b[0m\n\u001b[0;32m      1\u001b[0m \u001b[38;5;28;01mimport\u001b[39;00m \u001b[38;5;21;01mtest\u001b[39;00m\n\u001b[0;32m      2\u001b[0m usernames \u001b[38;5;241m=\u001b[39m [\u001b[38;5;124m'\u001b[39m\u001b[38;5;124mmax\u001b[39m\u001b[38;5;124m'\u001b[39m, \u001b[38;5;124m'\u001b[39m\u001b[38;5;124msamy\u001b[39m\u001b[38;5;124m'\u001b[39m, \u001b[38;5;124m'\u001b[39m\u001b[38;5;124mmahmoud\u001b[39m\u001b[38;5;124m'\u001b[39m]\n\u001b[1;32m----> 3\u001b[0m test\u001b[38;5;241m.\u001b[39msay_hello_username(usernames)\n",
      "\u001b[1;31mAttributeError\u001b[0m: module 'test' has no attribute 'say_hello_username'"
     ]
    }
   ],
   "source": [
    "# say.py\n",
    "import test\n",
    "usernames = ['max', 'samy', 'mahmoud']\n",
    "test.say_hello_username(usernames)\n"
   ]
  },
  {
   "cell_type": "code",
   "execution_count": 43,
   "id": "681bc50a",
   "metadata": {
    "tags": []
   },
   "outputs": [
    {
     "ename": "FileNotFoundError",
     "evalue": "[Errno 2] No such file or directory: 'data.txt'",
     "output_type": "error",
     "traceback": [
      "\u001b[1;31m---------------------------------------------------------------------------\u001b[0m",
      "\u001b[1;31mFileNotFoundError\u001b[0m                         Traceback (most recent call last)",
      "Cell \u001b[1;32mIn[43], line 1\u001b[0m\n\u001b[1;32m----> 1\u001b[0m \u001b[38;5;28;01mwith\u001b[39;00m \u001b[38;5;28mopen\u001b[39m(\u001b[38;5;124m'\u001b[39m\u001b[38;5;124mdata.txt\u001b[39m\u001b[38;5;124m'\u001b[39m, \u001b[38;5;124m'\u001b[39m\u001b[38;5;124mr\u001b[39m\u001b[38;5;124m'\u001b[39m) \u001b[38;5;28;01mas\u001b[39;00m f:\n\u001b[0;32m      2\u001b[0m     data \u001b[38;5;241m=\u001b[39m f\u001b[38;5;241m.\u001b[39mread()\n",
      "File \u001b[1;32m~\\anaconda3\\Lib\\site-packages\\IPython\\core\\interactiveshell.py:286\u001b[0m, in \u001b[0;36m_modified_open\u001b[1;34m(file, *args, **kwargs)\u001b[0m\n\u001b[0;32m    279\u001b[0m \u001b[38;5;28;01mif\u001b[39;00m file \u001b[38;5;129;01min\u001b[39;00m {\u001b[38;5;241m0\u001b[39m, \u001b[38;5;241m1\u001b[39m, \u001b[38;5;241m2\u001b[39m}:\n\u001b[0;32m    280\u001b[0m     \u001b[38;5;28;01mraise\u001b[39;00m \u001b[38;5;167;01mValueError\u001b[39;00m(\n\u001b[0;32m    281\u001b[0m         \u001b[38;5;124mf\u001b[39m\u001b[38;5;124m\"\u001b[39m\u001b[38;5;124mIPython won\u001b[39m\u001b[38;5;124m'\u001b[39m\u001b[38;5;124mt let you open fd=\u001b[39m\u001b[38;5;132;01m{\u001b[39;00mfile\u001b[38;5;132;01m}\u001b[39;00m\u001b[38;5;124m by default \u001b[39m\u001b[38;5;124m\"\u001b[39m\n\u001b[0;32m    282\u001b[0m         \u001b[38;5;124m\"\u001b[39m\u001b[38;5;124mas it is likely to crash IPython. If you know what you are doing, \u001b[39m\u001b[38;5;124m\"\u001b[39m\n\u001b[0;32m    283\u001b[0m         \u001b[38;5;124m\"\u001b[39m\u001b[38;5;124myou can use builtins\u001b[39m\u001b[38;5;124m'\u001b[39m\u001b[38;5;124m open.\u001b[39m\u001b[38;5;124m\"\u001b[39m\n\u001b[0;32m    284\u001b[0m     )\n\u001b[1;32m--> 286\u001b[0m \u001b[38;5;28;01mreturn\u001b[39;00m io_open(file, \u001b[38;5;241m*\u001b[39margs, \u001b[38;5;241m*\u001b[39m\u001b[38;5;241m*\u001b[39mkwargs)\n",
      "\u001b[1;31mFileNotFoundError\u001b[0m: [Errno 2] No such file or directory: 'data.txt'"
     ]
    }
   ],
   "source": [
    "with open('data.txt', 'r') as f:\n",
    "    data = f.read()"
   ]
  },
  {
   "cell_type": "markdown",
   "id": "7bdefd73",
   "metadata": {},
   "source": [
    "open() takes a filename and a mode as its arguments. r opens the file in read only mode. To write data to a file, pass in w as an argument instead:\n"
   ]
  },
  {
   "cell_type": "code",
   "execution_count": null,
   "id": "14dee1c1",
   "metadata": {
    "tags": []
   },
   "outputs": [],
   "source": [
    "with open('data.txt', 'w') as f:\n",
    "    data = 'some data to be written to the file'\n",
    "    f.write(data)"
   ]
  },
  {
   "cell_type": "markdown",
   "id": "b5c666c0",
   "metadata": {},
   "source": [
    "# Great job!!"
   ]
  },
  {
   "cell_type": "code",
   "execution_count": 46,
   "id": "9e2f045a",
   "metadata": {},
   "outputs": [
    {
     "data": {
      "text/plain": [
       "'Hello2Hello2'"
      ]
     },
     "execution_count": 46,
     "metadata": {},
     "output_type": "execute_result"
    }
   ],
   "source": [
    "def ex(a):\n",
    "    a = a +'2'\n",
    "    a = a*2\n",
    "    return a\n",
    "ex(\"Hello\")"
   ]
  },
  {
   "cell_type": "code",
   "execution_count": null,
   "id": "1f69f813",
   "metadata": {},
   "outputs": [],
   "source": []
  }
 ],
 "metadata": {
  "kernelspec": {
   "display_name": "Python 3 (ipykernel)",
   "language": "python",
   "name": "python3"
  },
  "language_info": {
   "codemirror_mode": {
    "name": "ipython",
    "version": 3
   },
   "file_extension": ".py",
   "mimetype": "text/x-python",
   "name": "python",
   "nbconvert_exporter": "python",
   "pygments_lexer": "ipython3",
   "version": "3.11.5"
  }
 },
 "nbformat": 4,
 "nbformat_minor": 5
}
