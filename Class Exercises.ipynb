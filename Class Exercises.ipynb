{
 "cells": [
  {
   "cell_type": "markdown",
   "id": "cca455ac",
   "metadata": {},
   "source": [
    "# My First Notebook"
   ]
  },
  {
   "cell_type": "markdown",
   "id": "ada77db3",
   "metadata": {},
   "source": [
    "## Notes on Strings"
   ]
  },
  {
   "cell_type": "code",
   "execution_count": 2,
   "id": "62af570c",
   "metadata": {},
   "outputs": [
    {
     "name": "stdout",
     "output_type": "stream",
     "text": [
      "B\n"
     ]
    }
   ],
   "source": [
    "batman = \"Bruce Wayne\"\n",
    "print(batman[0])"
   ]
  },
  {
   "cell_type": "code",
   "execution_count": 3,
   "id": "6ccb6e67",
   "metadata": {},
   "outputs": [
    {
     "name": "stdout",
     "output_type": "stream",
     "text": [
      "e\n"
     ]
    }
   ],
   "source": [
    "print(batman[-1])"
   ]
  },
  {
   "cell_type": "code",
   "execution_count": 4,
   "id": "4cc2684f",
   "metadata": {
    "scrolled": true
   },
   "outputs": [
    {
     "name": "stdout",
     "output_type": "stream",
     "text": [
      "Bruc\n"
     ]
    }
   ],
   "source": [
    "# Slicing\n",
    "print(batman[0:4])\n",
    "# Start point is ran, 4th is not included"
   ]
  },
  {
   "cell_type": "code",
   "execution_count": 5,
   "id": "6d9bfcb8",
   "metadata": {},
   "outputs": [
    {
     "name": "stdout",
     "output_type": "stream",
     "text": [
      "11\n"
     ]
    }
   ],
   "source": [
    "print(len(batman))"
   ]
  },
  {
   "cell_type": "code",
   "execution_count": 7,
   "id": "384292bd",
   "metadata": {},
   "outputs": [
    {
     "name": "stdout",
     "output_type": "stream",
     "text": [
      "Wayne\n"
     ]
    }
   ],
   "source": [
    "# Length\n",
    "# last index is included\n",
    "print(batman[6:len(batman)])"
   ]
  },
  {
   "cell_type": "code",
   "execution_count": 8,
   "id": "46dbaf68",
   "metadata": {
    "scrolled": true
   },
   "outputs": [
    {
     "name": "stdout",
     "output_type": "stream",
     "text": [
      "uce W\n"
     ]
    }
   ],
   "source": [
    "print(batman[2:7])"
   ]
  },
  {
   "cell_type": "code",
   "execution_count": 9,
   "id": "21f350e2",
   "metadata": {},
   "outputs": [
    {
     "name": "stdout",
     "output_type": "stream",
     "text": [
      "ueW\n"
     ]
    }
   ],
   "source": [
    "# slicing: [starting index(in), ending index(out), Steps]\n",
    "print(batman[2:7:2])"
   ]
  },
  {
   "cell_type": "code",
   "execution_count": 7,
   "id": "027c4fdf",
   "metadata": {},
   "outputs": [
    {
     "name": "stdout",
     "output_type": "stream",
     "text": [
      "rtS yM si s\n"
     ]
    }
   ],
   "source": [
    "# reverse slicing\n",
    "my_string = \"This is My String\"\n",
    "print(my_string[13:2:-1])"
   ]
  },
  {
   "cell_type": "code",
   "execution_count": 8,
   "id": "8a07d6af",
   "metadata": {},
   "outputs": [
    {
     "name": "stdout",
     "output_type": "stream",
     "text": [
      "rSy is\n"
     ]
    }
   ],
   "source": [
    "print(my_string[13:2:-2])"
   ]
  },
  {
   "cell_type": "code",
   "execution_count": 9,
   "id": "bae16dd4",
   "metadata": {},
   "outputs": [
    {
     "name": "stdout",
     "output_type": "stream",
     "text": [
      "This is \n"
     ]
    }
   ],
   "source": [
    "# partial slicing (only the ending index)\n",
    "print(my_string[:8])"
   ]
  },
  {
   "cell_type": "code",
   "execution_count": 10,
   "id": "ff74e749",
   "metadata": {},
   "outputs": [
    {
     "name": "stdout",
     "output_type": "stream",
     "text": [
      "is is My String\n"
     ]
    }
   ],
   "source": [
    "# partial slicing (only the starting index till the end)\n",
    "print(my_string[2:])"
   ]
  },
  {
   "cell_type": "code",
   "execution_count": 11,
   "id": "40cab14e",
   "metadata": {},
   "outputs": [
    {
     "name": "stdout",
     "output_type": "stream",
     "text": [
      "This is My String\n"
     ]
    }
   ],
   "source": [
    "# without idintifing an index to print\n",
    "print(my_string[:])"
   ]
  },
  {
   "cell_type": "code",
   "execution_count": 12,
   "id": "bf846185",
   "metadata": {},
   "outputs": [
    {
     "name": "stdout",
     "output_type": "stream",
     "text": [
      "gnirtS yM si sihT\n"
     ]
    }
   ],
   "source": [
    "# reverse slicing, step1\n",
    "print(my_string[::-1])"
   ]
  },
  {
   "cell_type": "code",
   "execution_count": 13,
   "id": "965b90d5",
   "metadata": {},
   "outputs": [
    {
     "name": "stdout",
     "output_type": "stream",
     "text": [
      "86\n"
     ]
    }
   ],
   "source": [
    "m = \"123456789\"\n",
    "print(m[-2:-6:-2])"
   ]
  },
  {
   "cell_type": "code",
   "execution_count": 14,
   "id": "b9b60c90",
   "metadata": {},
   "outputs": [
    {
     "name": "stdout",
     "output_type": "stream",
     "text": [
      "Hello Python\n"
     ]
    }
   ],
   "source": [
    "a = \"Hello\"\n",
    "b = \"Python\"\n",
    "print(a +\" \"+ b)"
   ]
  },
  {
   "cell_type": "code",
   "execution_count": 15,
   "id": "574f218d",
   "metadata": {},
   "outputs": [
    {
     "name": "stdout",
     "output_type": "stream",
     "text": [
      "HelloHello\n"
     ]
    }
   ],
   "source": [
    "print(a*2)"
   ]
  },
  {
   "cell_type": "code",
   "execution_count": 11,
   "id": "05aaf9d1",
   "metadata": {},
   "outputs": [
    {
     "name": "stdout",
     "output_type": "stream",
     "text": [
      "please enter a value 80\n",
      "<class 'str'>\n"
     ]
    }
   ],
   "source": [
    "# input is always defined as a string\n",
    "my_input = input(\"please enter a value \")\n",
    "print(type(my_input))"
   ]
  },
  {
   "cell_type": "code",
   "execution_count": 2,
   "id": "ec93fd41",
   "metadata": {},
   "outputs": [
    {
     "name": "stdout",
     "output_type": "stream",
     "text": [
      "Enter the first number 2\n",
      "Enter the second number 3\n",
      "6\n"
     ]
    }
   ],
   "source": [
    "# If we wanted to take a number input we should define the input as a integer first\n",
    "input1 = int(input(\"Enter the first number \"))\n",
    "input2 = int(input(\"Enter the second number \"))\n",
    "print(input1 * input2)"
   ]
  },
  {
   "cell_type": "code",
   "execution_count": 3,
   "id": "ad348205",
   "metadata": {},
   "outputs": [
    {
     "name": "stdout",
     "output_type": "stream",
     "text": [
      "2\n"
     ]
    }
   ],
   "source": [
    "a =1 \n",
    "a+=1\n",
    "print(a)"
   ]
  },
  {
   "cell_type": "code",
   "execution_count": 7,
   "id": "5114a319",
   "metadata": {},
   "outputs": [
    {
     "name": "stdout",
     "output_type": "stream",
     "text": [
      "Bassant Nader\n"
     ]
    }
   ],
   "source": [
    "first_name = \"Bassant\"\n",
    "last_name = \"Nader\"\n",
    "full_name = f\"{first_name} {last_name}\"\n",
    "print(full_name)"
   ]
  },
  {
   "cell_type": "code",
   "execution_count": 9,
   "id": "42d20a41",
   "metadata": {},
   "outputs": [
    {
     "name": "stdout",
     "output_type": "stream",
     "text": [
      "Type your name Bassant\n",
      "Type your age 20\n",
      "My name is Bassant \n",
      "I am 20\n"
     ]
    }
   ],
   "source": [
    "name = input(\"Type your name \")\n",
    "age = input(\"Type your age \")\n",
    "print (\"My name is\",name,\"\\n\"\"I am\",age)"
   ]
  },
  {
   "cell_type": "code",
   "execution_count": 10,
   "id": "5e1e1719",
   "metadata": {},
   "outputs": [
    {
     "name": "stdout",
     "output_type": "stream",
     "text": [
      "[1, 3, 5]\n"
     ]
    }
   ],
   "source": [
    "num = [1,2,3,4,5]\n",
    "print(num[0:len(num):2])"
   ]
  },
  {
   "cell_type": "code",
   "execution_count": 11,
   "id": "7f97cd6e",
   "metadata": {},
   "outputs": [
    {
     "name": "stdout",
     "output_type": "stream",
     "text": [
      "[1, 4, 9, 16, 25, 36, 49, 64, 81, 100]\n"
     ]
    }
   ],
   "source": [
    "s = [x**2 for x in range(1,11)]\n",
    "print(s)"
   ]
  },
  {
   "cell_type": "code",
   "execution_count": 9,
   "id": "740113f8",
   "metadata": {},
   "outputs": [
    {
     "name": "stdout",
     "output_type": "stream",
     "text": [
      "  Bat man  \n",
      "Bat man\n"
     ]
    }
   ],
   "source": [
    "# strip() removes white space (spaces, tabs, or newlines) from the beginning and end of a  string, but not the middle space\n",
    "name = \"  Bat man  \"\n",
    "print(name)\n",
    "print(name.strip())"
   ]
  },
  {
   "cell_type": "code",
   "execution_count": null,
   "id": "66364e37",
   "metadata": {},
   "outputs": [],
   "source": [
    "'''     Escape Characters:\n",
    " \\’: single quote\n",
    " \\\\: Backslash\n",
    " \\n: New line\n",
    " \\t: tab\n",
    " \\b: Backspace\n",
    " '''"
   ]
  },
  {
   "cell_type": "code",
   "execution_count": 2,
   "id": "d767dfa5",
   "metadata": {},
   "outputs": [
    {
     "name": "stdout",
     "output_type": "stream",
     "text": [
      "12.56\n"
     ]
    }
   ],
   "source": [
    "def circle_area(radius,pi=3.14):\n",
    "    return(pi*radius**2)\n",
    "print(circle_area(2))"
   ]
  },
  {
   "cell_type": "code",
   "execution_count": 4,
   "id": "f0edb4ab",
   "metadata": {},
   "outputs": [
    {
     "name": "stdout",
     "output_type": "stream",
     "text": [
      "Addition: 50\n",
      "Subtraction: 30\n"
     ]
    }
   ],
   "source": [
    "def calculation(a, b):\n",
    "    print(f\"Addition: {a + b}\")\n",
    "    print(f\"Subtraction: {a - b}\")\n",
    "    \n",
    "calculation(40, 10)"
   ]
  },
  {
   "cell_type": "code",
   "execution_count": 8,
   "id": "766de095",
   "metadata": {},
   "outputs": [
    {
     "name": "stdout",
     "output_type": "stream",
     "text": [
      "Name: Ben, salary: 12000\n",
      "Name: Jessa, salary: 9000\n"
     ]
    }
   ],
   "source": [
    "def show_employee( name, salary = 9000):\n",
    "    return f\"Name: {name}, salary: {salary}\"\n",
    "\n",
    "print(show_employee(\"Ben\", 12000))\n",
    "print(show_employee(\"Jessa\"))"
   ]
  },
  {
   "cell_type": "code",
   "execution_count": null,
   "id": "499526be",
   "metadata": {},
   "outputs": [],
   "source": [
    "'''  File operations without libraries\n",
    "r: read content.\n",
    "a: append, create the file if not exist.\n",
    "w: write, create the file if not exist, overwrite.\n",
    "x: creates the file only.\n",
    "\n",
    "open(\"file name\", \"mode\")"
   ]
  },
  {
   "cell_type": "code",
   "execution_count": null,
   "id": "15ec5138",
   "metadata": {},
   "outputs": [],
   "source": []
  }
 ],
 "metadata": {
  "kernelspec": {
   "display_name": "Python 3 (ipykernel)",
   "language": "python",
   "name": "python3"
  },
  "language_info": {
   "codemirror_mode": {
    "name": "ipython",
    "version": 3
   },
   "file_extension": ".py",
   "mimetype": "text/x-python",
   "name": "python",
   "nbconvert_exporter": "python",
   "pygments_lexer": "ipython3",
   "version": "3.11.5"
  }
 },
 "nbformat": 4,
 "nbformat_minor": 5
}
