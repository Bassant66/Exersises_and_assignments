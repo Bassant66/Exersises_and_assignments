{
 "cells": [
  {
   "cell_type": "markdown",
   "id": "b0e54bd3",
   "metadata": {},
   "source": [
    "## Question 1:\n",
    "Write a Python function called greet_user that takes two parameters: name (a string representing the user's name) and greeting (a string representing a greeting message). The function should print the personalized greeting message. If the greeting parameter is not provided, the function should use \"Hello\" as the default greeting.\n",
    "\n",
    "Expected Output:\n",
    "\n",
    "If the user's name is \"Alice\" and no specific greeting is provided, the function should print \"Hello, Alice!\".\n",
    "\n",
    "Please write the Python code for the greet_user function and demonstrate its usage with different examples, both with and without a specific greeting"
   ]
  },
  {
   "cell_type": "code",
   "execution_count": 1,
   "id": "b692411b",
   "metadata": {},
   "outputs": [
    {
     "name": "stdout",
     "output_type": "stream",
     "text": [
      "Hello, Alice!\n",
      "Hi, Alice!\n"
     ]
    }
   ],
   "source": [
    "def greet_user(name, greeting = \"Hello\"):\n",
    "    return f\"{greeting}, {name.title()}!\"\n",
    "\n",
    "print(greet_user(\"alice\"))\n",
    "print(greet_user(\"alice\",\"Hi\"))"
   ]
  },
  {
   "cell_type": "markdown",
   "id": "43a5f688",
   "metadata": {},
   "source": [
    "## Question 2:\n",
    "Write a Python program that takes two tuples as input, each containing integers, and returns a new tuple containing the element-wise sum of the corresponding elements from the input tuples. Assume the input tuples have the same length.\n",
    "\n",
    "Expected Output:\n",
    "\n",
    "If the input tuples are (1, 2, 3) and (4, 5, 6), the program should return (5, 7, 9).\n",
    "Please write the Python code to accomplish this task."
   ]
  },
  {
   "cell_type": "code",
   "execution_count": 17,
   "id": "706b9747",
   "metadata": {},
   "outputs": [
    {
     "name": "stdout",
     "output_type": "stream",
     "text": [
      "Enter comma separated numbers: 1,2,3\n",
      "Enter another comma separated numbers: 4,5,6\n",
      "(5, 7, 9)\n"
     ]
    }
   ],
   "source": [
    "def add_tuples():\n",
    "    tuple1 = tuple(map(int, input(\"Enter comma separated numbers: \").split(',')))\n",
    "    tuple2 = tuple(map(int, input(\"Enter another comma separated numbers: \").split(',')))\n",
    "    if len(tuple1) != len(tuple2):\n",
    "        print(\"Tuples must have the same length\")\n",
    "    else:\n",
    "        result = []\n",
    "        for x in range(len(tuple1)):\n",
    "            result.append(tuple1[x] + tuple2[x])\n",
    "        return tuple(result)\n",
    "print(add_tuples())"
   ]
  },
  {
   "cell_type": "markdown",
   "id": "eb50ce3a",
   "metadata": {},
   "source": [
    "## Question 3:\n",
    "Write a Python program that prompts the user to guess a secret number between 1 and 10. The program should continue to prompt the user for guesses until they correctly guess the secret number. Provide feedback to the user if their guess is too high or too low.\n",
    "\n",
    "Expected Output:\n",
    "\n",
    "If the secret number is 7 and the user's guesses are 5, 8, 7, the program should print:\n",
    "\n",
    "\"Too low! Try again.\"\n",
    "\n",
    "\"Too high! Try again.\"\n",
    "\n",
    "\"Congratulations! You guessed the secret number 7.\"\n",
    "\n",
    "Please write the Python code for this guessing game using a while loop."
   ]
  },
  {
   "cell_type": "code",
   "execution_count": 8,
   "id": "3d36701b",
   "metadata": {},
   "outputs": [
    {
     "name": "stdout",
     "output_type": "stream",
     "text": [
      "Guess a number between 1 and 10: 2\n",
      "Too low! Try again. 6\n",
      "Too high! Try again. 1\n",
      "Too low! Try again. 50\n",
      "The number must be between 1 and 10! Try again. 5\n",
      "5\n"
     ]
    }
   ],
   "source": [
    "secret_number = 5\n",
    "guess = int(input(\"Guess a number between 1 and 10: \")) \n",
    "\n",
    "while guess != secret_number:\n",
    "    if guess in range(1,11):\n",
    "        if guess == 5:\n",
    "            print(\"Congratulations! You guessed the secret number 5.\")\n",
    "        elif guess > 5:\n",
    "            guess = int(input(\"Too high! Try again. \"))\n",
    "        elif guess < 5:\n",
    "            guess = int(input(\"Too low! Try again. \"))\n",
    "    else:\n",
    "        guess = int(input(\"The number must be between 1 and 10! Try again. \"))\n",
    "        \n",
    "print(guess)"
   ]
  },
  {
   "cell_type": "code",
   "execution_count": 7,
   "id": "227d8033",
   "metadata": {},
   "outputs": [],
   "source": [
    "# Generate a secret number between 1 and 10\n",
    "\n",
    "# Initialize the user's guess to an invalid value\n",
    "\n",
    "# Prompt the user to guess the secret number\n",
    "\n",
    "# End of the game\n"
   ]
  },
  {
   "cell_type": "markdown",
   "id": "e3c169ff",
   "metadata": {},
   "source": [
    "## Question 4:\n",
    "Write a Python program that takes a list of words as input and creates a dictionary where the keys are the unique words in the list, and the values are lists containing the indices (positions) at which each word appears in the list.\n",
    "\n",
    "Expected Output:\n",
    "\n",
    "If the input list is [\"apple\", \"banana\", \"orange\", \"banana\", \"kiwi\", \"apple\"], the program should return {'apple': [0,5], 'banana': [1,3], 'orange': [2], 'kiwi': [4]}.\n",
    "Please write the Python code to accomplish this task."
   ]
  },
  {
   "cell_type": "code",
   "execution_count": 17,
   "id": "2ea6eb25",
   "metadata": {},
   "outputs": [
    {
     "name": "stdout",
     "output_type": "stream",
     "text": [
      "Enter your favourite fruites: apple, banana, orange, banana, kiwi, apple\n",
      "{'apple': [0], ' banana': [1, 3], ' orange': [2], ' kiwi': [4], ' apple': [5]}\n"
     ]
    }
   ],
   "source": [
    "fruits = input(\"Enter your favourite fruites: \").split(',')\n",
    "fruit_dic = {}\n",
    "for index, fruit in enumerate(fruits):\n",
    "    if fruit not in fruit_dic:\n",
    "        fruit_dic[fruit] = []\n",
    "    fruit_dic[fruit].append(index)\n",
    "print(fruit_dic)"
   ]
  }
 ],
 "metadata": {
  "kernelspec": {
   "display_name": "Python 3 (ipykernel)",
   "language": "python",
   "name": "python3"
  },
  "language_info": {
   "codemirror_mode": {
    "name": "ipython",
    "version": 3
   },
   "file_extension": ".py",
   "mimetype": "text/x-python",
   "name": "python",
   "nbconvert_exporter": "python",
   "pygments_lexer": "ipython3",
   "version": "3.11.5"
  }
 },
 "nbformat": 4,
 "nbformat_minor": 5
}
